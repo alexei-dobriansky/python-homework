{
 "metadata": {
  "language_info": {
   "codemirror_mode": {
    "name": "ipython",
    "version": 3
   },
   "file_extension": ".py",
   "mimetype": "text/x-python",
   "name": "python",
   "nbconvert_exporter": "python",
   "pygments_lexer": "ipython3",
   "version": "3.8.5"
  },
  "orig_nbformat": 2,
  "kernelspec": {
   "name": "python3",
   "display_name": "Python 3.8.5 64-bit ('base': conda)",
   "metadata": {
    "interpreter": {
     "hash": "485035c5b2a6f2b50dc2dc5ca51aeeb931032fbc9adc2e30c7c528d6bf8a9176"
    }
   }
  }
 },
 "nbformat": 4,
 "nbformat_minor": 2,
 "cells": [
  {
   "source": [
    "## Домашнее задание к лекции \"Работа с файловой системой и модули\""
   ],
   "cell_type": "markdown",
   "metadata": {}
  },
  {
   "source": [
    "### Задание 1.\n",
    "Переведите содержимое файла purchase_log.txt в словарь purchases вида:\n",
    "{‘1840e0b9d4’: ‘Продукты’, …}\n"
   ],
   "cell_type": "markdown",
   "metadata": {}
  },
  {
   "cell_type": "code",
   "execution_count": 14,
   "metadata": {},
   "outputs": [
    {
     "output_type": "stream",
     "name": "stdout",
     "text": [
      "1840e0b9d4 Продукты\n4e4f90fcfb Электроника\nafea8d72fc Электроника\n373a6055fe Бытовая техника\n9b2ab046f3 Электроника\n"
     ]
    }
   ],
   "source": [
    "import json\n",
    "\n",
    "def make_dict_from_file(file_name):\n",
    "    '''\n",
    "    открыть заданный файл,\n",
    "    прочитать имя ключа и значения из первой строки\n",
    "    и построить словарь\n",
    "    '''\n",
    "    result_dict = {}\n",
    "    with open(file_name, encoding='utf-8') as f:\n",
    "        next(f) # пропустить заголовок\n",
    "        for line in f:\n",
    "            dict_ = json.loads(line)\n",
    "            result_dict.update({dict_['user_id']: dict_['category']})\n",
    "        return result_dict\n",
    "\n",
    "\n",
    "def print_dict(dict_, no_of_lines):\n",
    "    for i, (key, value) in enumerate(dict_.items()):\n",
    "        print(key, value)\n",
    "        if i >= no_of_lines - 1:\n",
    "            break\n",
    "\n",
    "def main():\n",
    "    purchases = make_dict_from_file('purchase_log.txt')\n",
    "    print_dict(purchases, 5)\n",
    "    return\n",
    "\n",
    "main()\n",
    "    "
   ]
  },
  {
   "source": [
    "### Задание 2.\n",
    "Для каждого user_id в файле visit_log.csv определите третий столбец с категорией покупки (если покупка была, сам файл visit_log.csv изменять не надо).  \n",
    "Запишите в файл funnel.csv визиты из файла visit_log.csv, в которых были покупки с указанием категории.  \n",
    "Учтите условия на данные:\n",
    "- содержимое purchase_log.txt помещается в оперативную память компьютера\n",
    "- содержимое visit_log.csv - нет; используйте только построчную обработку этого файла"
   ],
   "cell_type": "markdown",
   "metadata": {}
  },
  {
   "cell_type": "code",
   "execution_count": 15,
   "metadata": {
    "tags": []
   },
   "outputs": [
    {
     "output_type": "stream",
     "name": "stdout",
     "text": [
      "1840e0b9d4,other,Продукты\n\n4e4f90fcfb,context,Электроника\n\nafea8d72fc,other,Электроника\n\n2824221f38,email,Продукты\n\n373a6055fe,other,Бытовая техника\n\n"
     ]
    }
   ],
   "source": [
    "purch_dict = make_dict_from_file('purchase_log.txt')\n",
    "\n",
    "with open('visit_log.csv', encoding='utf-8') as f_visits:\n",
    "    with open('funnel.csv', 'w', encoding='utf-8') as f_result:\n",
    "        for line in f_visits:\n",
    "            list_ = line.strip().split(',')\n",
    "\n",
    "            category = purch_dict.get(list_[0])\n",
    "            if category != None:\n",
    "                list_.append(category)\n",
    "                f_result.write(','.join(list_) + '\\n')\n",
    "\n",
    "# печать первых 5 строк из результирующего файла для проверки\n",
    "f = open('funnel.csv', encoding='utf-8')\n",
    "for i, line in enumerate(f):\n",
    "    print(line)\n",
    "    if i >= 4:\n",
    "        break\n"
   ]
  }
 ]
}