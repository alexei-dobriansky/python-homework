{
 "cells": [
  {
   "cell_type": "markdown",
   "metadata": {},
   "source": [
    "## Домашнее задание к лекции \"Основы Python\"\n",
    "\n",
    "### Сравнение длин строк\n"
   ]
  },
  {
   "cell_type": "code",
   "execution_count": 25,
   "metadata": {
    "scrolled": true
   },
   "outputs": [
    {
     "name": "stdout",
     "output_type": "stream",
     "text": [
      "Введите первую строку: ы\n",
      "Введите вторую строку: ы\n",
      "Фразы равной длины\n"
     ]
    }
   ],
   "source": [
    "phrase_1 = str(input(\"Введите первую строку: \"))\n",
    "phrase_2 = str(input(\"Введите вторую строку: \"))\n",
    "\n",
    "if len(phrase_1) > len(phrase_2):\n",
    "    print('Фраза 1 длиннее фразы 2')\n",
    "elif len(phrase_2) > len(phrase_1):\n",
    "    print('Фраза 2 длиннее фразы 1')\n",
    "else:\n",
    "    print('Фразы равной длины')\n",
    "    "
   ]
  },
  {
   "cell_type": "markdown",
   "metadata": {},
   "source": [
    "\n",
    "### Високосный код"
   ]
  },
  {
   "cell_type": "code",
   "execution_count": 54,
   "metadata": {},
   "outputs": [
    {
     "name": "stdout",
     "output_type": "stream",
     "text": [
      "Високосный год\n"
     ]
    }
   ],
   "source": [
    "year = 1956\n",
    "\n",
    "if (year % 4 != 0 or \n",
    "    year % 100 == 0 and year // 100 % 4 != 0):\n",
    "    print('Обычный год')\n",
    "else:\n",
    "    print('Високосный год')"
   ]
  },
  {
   "cell_type": "markdown",
   "metadata": {},
   "source": [
    "\n",
    "### Знак зодиака"
   ]
  },
  {
   "cell_type": "code",
   "execution_count": 91,
   "metadata": {},
   "outputs": [
    {
     "name": "stdout",
     "output_type": "stream",
     "text": [
      "Введите день: 14\n",
      "Введите месяц: МаЙ\n",
      "Ваш знак зодиака: Телец\n"
     ]
    }
   ],
   "source": [
    "import datetime\n",
    "\n",
    "day = int(input('Введите день: '))\n",
    "month = str(input('Введите месяц: ')).lower()\n",
    "\n",
    "month_list = ['январь', 'февраль', 'март', 'апрель', 'май', 'июнь',\n",
    "              'июль', 'август', 'сентябрь', 'октябрь', 'ноябрь', 'декабрь']\n",
    "zodiak_list = ['Козерог', 'Водолей', 'Рыбы', 'Овен', 'Телец' ,'Близнецы,',\n",
    "          'Рак', 'Лев', 'Дева', 'Весы','Скорпион', 'Стрелец']\n",
    "\n",
    "user_date = datetime.date(2021, month_list.index(month) + 1, day)\n",
    "\n",
    "if (datetime.date(2021, 1, 1) <= user_date <= datetime.date(2021, 1, 20) or\n",
    "    datetime.date(2021, 12, 22) <= user_date <= datetime.date(2021, 12, 31)):\n",
    "    zodiak = zodiak_list[0]\n",
    "elif datetime.date(2021, 1, 21) <= user_date <= datetime.date(2021, 2, 20):\n",
    "    zodiak = zodiak_list[1]\n",
    "elif datetime.date(2021, 2, 21) <= user_date <= datetime.date(2021, 3, 20):\n",
    "    zodiak = zodiak_list[2]\n",
    "elif datetime.date(2021, 3, 21) <= user_date <= datetime.date(2021, 4, 20):\n",
    "    zodiak = zodiak_list[3]\n",
    "elif datetime.date(2021, 4, 21) <= user_date <= datetime.date(2021, 5, 20):\n",
    "    zodiak = zodiak_list[4]\n",
    "elif datetime.date(2021, 5, 21) <= user_date <= datetime.date(2021, 6, 21):\n",
    "    zodiak = zodiak_list[5]\n",
    "elif datetime.date(2021, 6, 22) <= user_date <= datetime.date(2021, 7, 22):\n",
    "    zodiak = zodiak_list[6]\n",
    "elif datetime.date(2021, 7, 23) <= user_date <= datetime.date(2021, 8, 23):\n",
    "    zodiak = zodiak_list[7]\n",
    "elif datetime.date(2021, 8, 24) <= user_date <= datetime.date(2021, 9, 23):\n",
    "    zodiak = zodiak_list[8]\n",
    "elif datetime.date(2021, 9, 24) <= user_date <= datetime.date(2021, 10, 22):\n",
    "    zodiak = zodiak_list[9]\n",
    "elif datetime.date(2021, 10, 23) <= user_date <= datetime.date(2021, 11, 21):\n",
    "    zodiak = zodiak_list[10]\n",
    "elif datetime.date(2021, 11, 22) <= user_date <= datetime.date(2021, 12, 21):\n",
    "    zodiak = zodiak_list[11]\n",
    "else:\n",
    "    zodiak = 'астрологам неизвестен'\n",
    "\n",
    "print('Ваш знак зодиака:', zodiak)"
   ]
  }
 ],
 "metadata": {
  "kernelspec": {
   "display_name": "Python 3",
   "language": "python",
   "name": "python3"
  },
  "language_info": {
   "codemirror_mode": {
    "name": "ipython",
    "version": 3
   },
   "file_extension": ".py",
   "mimetype": "text/x-python",
   "name": "python",
   "nbconvert_exporter": "python",
   "pygments_lexer": "ipython3",
   "version": "3.8.5"
  }
 },
 "nbformat": 4,
 "nbformat_minor": 4
}
