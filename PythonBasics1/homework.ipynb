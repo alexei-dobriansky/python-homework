{
 "cells": [
  {
   "cell_type": "markdown",
   "metadata": {},
   "source": [
    "## Домашнее задание к лекции \"Основы Python\"\n",
    "\n",
    "### 1. Сравнение длин строк\n"
   ]
  },
  {
   "cell_type": "code",
   "execution_count": 25,
   "metadata": {
    "scrolled": true
   },
   "outputs": [
    {
     "name": "stdout",
     "output_type": "stream",
     "text": [
      "Введите первую строку: ы\n",
      "Введите вторую строку: ы\n",
      "Фразы равной длины\n"
     ]
    }
   ],
   "source": [
    "phrase_1 = str(input(\"Введите первую строку: \"))\n",
    "phrase_2 = str(input(\"Введите вторую строку: \"))\n",
    "\n",
    "if len(phrase_1) > len(phrase_2):\n",
    "    print('Фраза 1 длиннее фразы 2')\n",
    "elif len(phrase_2) > len(phrase_1):\n",
    "    print('Фраза 2 длиннее фразы 1')\n",
    "else:\n",
    "    print('Фразы равной длины')\n",
    "    "
   ]
  },
  {
   "cell_type": "markdown",
   "metadata": {},
   "source": [
    "\n",
    "### 2. Високосный код"
   ]
  },
  {
   "cell_type": "code",
   "execution_count": 54,
   "metadata": {},
   "outputs": [
    {
     "name": "stdout",
     "output_type": "stream",
     "text": [
      "Високосный год\n"
     ]
    }
   ],
   "source": [
    "year = 1956\n",
    "\n",
    "if (year % 4 != 0 or \n",
    "    year % 100 == 0 and year // 100 % 4 != 0):\n",
    "    print('Обычный год')\n",
    "else:\n",
    "    print('Високосный год')"
   ]
  },
  {
   "cell_type": "markdown",
   "metadata": {},
   "source": [
    "\n",
    "### 3. Знак зодиака"
   ]
  },
  {
   "cell_type": "code",
   "execution_count": 93,
   "metadata": {},
   "outputs": [
    {
     "name": "stdout",
     "output_type": "stream",
     "text": [
      "Введите день: 25\n",
      "Введите месяц: декабрь\n",
      "Ваш знак зодиака: Козерог\n"
     ]
    }
   ],
   "source": [
    "import datetime\n",
    "\n",
    "day = int(input('Введите день: '))\n",
    "month = str(input('Введите месяц: ')).lower()\n",
    "\n",
    "month_list = ['январь', 'февраль', 'март', 'апрель', 'май', 'июнь',\n",
    "              'июль', 'август', 'сентябрь', 'октябрь', 'ноябрь', 'декабрь']\n",
    "zodiak_list = ['Козерог', 'Водолей', 'Рыбы', 'Овен', 'Телец' ,'Близнецы,',\n",
    "          'Рак', 'Лев', 'Дева', 'Весы','Скорпион', 'Стрелец']\n",
    "\n",
    "user_date = datetime.date(2021, month_list.index(month) + 1, day)\n",
    "\n",
    "if (datetime.date(2021, 1, 1) <= user_date <= datetime.date(2021, 1, 20) or\n",
    "    datetime.date(2021, 12, 22) <= user_date <= datetime.date(2021, 12, 31)):\n",
    "    zodiak = zodiak_list[0]\n",
    "elif datetime.date(2021, 1, 21) <= user_date <= datetime.date(2021, 2, 20):\n",
    "    zodiak = zodiak_list[1]\n",
    "elif datetime.date(2021, 2, 21) <= user_date <= datetime.date(2021, 3, 20):\n",
    "    zodiak = zodiak_list[2]\n",
    "elif datetime.date(2021, 3, 21) <= user_date <= datetime.date(2021, 4, 20):\n",
    "    zodiak = zodiak_list[3]\n",
    "elif datetime.date(2021, 4, 21) <= user_date <= datetime.date(2021, 5, 20):\n",
    "    zodiak = zodiak_list[4]\n",
    "elif datetime.date(2021, 5, 21) <= user_date <= datetime.date(2021, 6, 21):\n",
    "    zodiak = zodiak_list[5]\n",
    "elif datetime.date(2021, 6, 22) <= user_date <= datetime.date(2021, 7, 22):\n",
    "    zodiak = zodiak_list[6]\n",
    "elif datetime.date(2021, 7, 23) <= user_date <= datetime.date(2021, 8, 23):\n",
    "    zodiak = zodiak_list[7]\n",
    "elif datetime.date(2021, 8, 24) <= user_date <= datetime.date(2021, 9, 23):\n",
    "    zodiak = zodiak_list[8]\n",
    "elif datetime.date(2021, 9, 24) <= user_date <= datetime.date(2021, 10, 22):\n",
    "    zodiak = zodiak_list[9]\n",
    "elif datetime.date(2021, 10, 23) <= user_date <= datetime.date(2021, 11, 21):\n",
    "    zodiak = zodiak_list[10]\n",
    "elif datetime.date(2021, 11, 22) <= user_date <= datetime.date(2021, 12, 21):\n",
    "    zodiak = zodiak_list[11]\n",
    "else:\n",
    "    zodiak = 'астрологам неизвестен'\n",
    "\n",
    "print('Ваш знак зодиака:', zodiak)"
   ]
  },
  {
   "cell_type": "markdown",
   "metadata": {},
   "source": [
    "\n",
    "### 4. Упаковка товара"
   ]
  },
  {
   "cell_type": "code",
   "execution_count": 102,
   "metadata": {},
   "outputs": [
    {
     "name": "stdout",
     "output_type": "stream",
     "text": [
      "Стандартная коробка №3\n"
     ]
    }
   ],
   "source": [
    "width = 70\n",
    "heigth = 60\n",
    "depth = 80\n",
    "\n",
    "if width < 15 and heigth < 15 and depth < 15:\n",
    "    print('Коробка №1')\n",
    "elif heigth > 200:\n",
    "    print('Коробка для лыж')\n",
    "elif 15 <= width < 50 or 15 <= heigth < 50 or 15 <= depth < 50:\n",
    "    print('Коробка №2')\n",
    "else:\n",
    "    print('Стандартная коробка №3')"
   ]
  },
  {
   "cell_type": "markdown",
   "metadata": {},
   "source": [
    "\n",
    "### 5. Счастливый билет"
   ]
  },
  {
   "cell_type": "code",
   "execution_count": 143,
   "metadata": {},
   "outputs": [
    {
     "name": "stdout",
     "output_type": "stream",
     "text": [
      "Счастливый билет\n"
     ]
    }
   ],
   "source": [
    "number = 123321\n",
    "\n",
    "if (int(str(number)[0]) + int(str(number)[1]) + int(str(number)[2]) == \n",
    "    int(str(number)[3]) + int(str(number)[4]) + int(str(number)[5])):\n",
    "    print('Счастливый билет')\n",
    "else:\n",
    "    print('Несчастливый билет')"
   ]
  },
  {
   "cell_type": "markdown",
   "metadata": {},
   "source": [
    "\n",
    "### 6. Площади фигур"
   ]
  },
  {
   "cell_type": "code",
   "execution_count": 155,
   "metadata": {},
   "outputs": [
    {
     "name": "stdout",
     "output_type": "stream",
     "text": [
      "Введите тип фигуры: ва\n"
     ]
    }
   ],
   "source": [
    "import math\n",
    "\n",
    "shape = input('Введите тип фигуры: ')\n",
    "\n",
    "if shape.lower() == 'треугольник':\n",
    "    side_a = float(input('Введите длину стороны A: '))\n",
    "    side_b = float(input('Введите длину стороны B: '))\n",
    "    side_c = float(input('Введите длину стороны C: '))\n",
    "    p = (side_a + side_b + side_c) / 2\n",
    "    square = math.sqrt(p * (p - side_a) * (p - side_b) * (p - side_c))\n",
    "    print('Площадь треугольника:', round(square, 2))\n",
    "    \n",
    "elif shape.lower() == 'круг':\n",
    "    radius = float(input('Введите радиус: '))\n",
    "    square = math.pi * radius**2\n",
    "    print('Площадь круга:', round(square, 2))\n",
    "    \n",
    "elif shape.lower() == 'прямоугольник':\n",
    "    side_a = float(input('Введите длину стороны A: '))\n",
    "    side_b = float(input('Введите длину стороны B: '))\n",
    "    square = side_a * side_b\n",
    "    print('Площадь прямоугольника:', round(square, 2))\n",
    "    \n",
    "else:\n",
    "    print('Неизвестная фигура')"
   ]
  }
 ],
 "metadata": {
  "kernelspec": {
   "display_name": "Python 3",
   "language": "python",
   "name": "python3"
  },
  "language_info": {
   "codemirror_mode": {
    "name": "ipython",
    "version": 3
   },
   "file_extension": ".py",
   "mimetype": "text/x-python",
   "name": "python",
   "nbconvert_exporter": "python",
   "pygments_lexer": "ipython3",
   "version": "3.8.5"
  }
 },
 "nbformat": 4,
 "nbformat_minor": 4
}
