{
 "metadata": {
  "language_info": {
   "codemirror_mode": {
    "name": "ipython",
    "version": 3
   },
   "file_extension": ".py",
   "mimetype": "text/x-python",
   "name": "python",
   "nbconvert_exporter": "python",
   "pygments_lexer": "ipython3",
   "version": "3.8.5-final"
  },
  "orig_nbformat": 2,
  "kernelspec": {
   "name": "python3",
   "display_name": "Python 3",
   "language": "python"
  }
 },
 "nbformat": 4,
 "nbformat_minor": 2,
 "cells": [
  {
   "source": [
    "## Домашнее задание «Управляющие конструкции и коллекции» часть 2\n",
    "\n",
    "### 1. Гео-метки\n",
    "Дана переменная, в которой хранится словарь, содержащий гео-метки для каждого пользователя (пример структуры данных приведен ниже). Вам необходимо написать программу, которая выведет на экран множество уникальных гео-меток всех пользователей."
   ],
   "cell_type": "markdown",
   "metadata": {}
  },
  {
   "cell_type": "code",
   "execution_count": 67,
   "metadata": {},
   "outputs": [
    {
     "output_type": "stream",
     "name": "stdout",
     "text": [
      "Результат: {98, 35, 15, 213, 54, 119}\n"
     ]
    }
   ],
   "source": [
    "ids = {\n",
    "    'user1': [213, 213, 213, 15, 213],\n",
    "    'user2': [54, 54, 119, 119, 119],\n",
    "    'user3': [213, 98, 98, 35]\n",
    "}\n",
    "\n",
    "all_locations = []\n",
    "\n",
    "for user in ids:\n",
    "    all_locations += ids[user]\n",
    "\n",
    "print('Результат:', set(all_locations))    "
   ]
  },
  {
   "source": [
    "\n",
    "### 2. Распределение запросов по количеству слов\n",
    "Дана переменная, в которой хранится список поисковых запросов пользователя (пример структуры данных приведен ниже). Вам необходимо написать программу, которая выведет на экран распределение количества слов в запросах в требуемом виде."
   ],
   "cell_type": "markdown",
   "metadata": {}
  },
  {
   "cell_type": "code",
   "execution_count": 68,
   "metadata": {},
   "outputs": [
    {
     "output_type": "stream",
     "name": "stdout",
     "text": [
      "Поисковых запросов, содержащих 2 слов(а): 42.86%\nПоисковых запросов, содержащих 3 слов(а): 57.14%\n"
     ]
    }
   ],
   "source": [
    "queries = [\n",
    "    'смотреть сериалы онлайн',\n",
    "    'новости спорта',\n",
    "    'афиша кино',\n",
    "    'курс доллара',\n",
    "    'сериалы этим летом',\n",
    "    'курс по питону',\n",
    "    'сериалы про спорт'\n",
    "]\n",
    "\n",
    "no_of_words = [query.count(' ') + 1 for query in queries]\n",
    "\n",
    "for i in range(min(no_of_words), max(no_of_words) + 1):\n",
    "    print(f'Поисковых запросов, содержащих {i} слов(а): ',\n",
    "        round(no_of_words.count(i) / len(no_of_words) * 100,2), '%', sep='')"
   ]
  },
  {
   "source": [
    "### 3. ROI рекламных кампаний\n",
    "Дана переменная, в которой хранится информация о затратах и доходе рекламных кампаний по различным источникам. Необходимо дополнить исходную структуру показателем ROI, который рассчитаем по формуле: (revenue / cost - 1) * 100"
   ],
   "cell_type": "markdown",
   "metadata": {}
  },
  {
   "cell_type": "code",
   "execution_count": 69,
   "metadata": {},
   "outputs": [
    {
     "output_type": "stream",
     "name": "stdout",
     "text": [
      "vk {'revenue': 103, 'cost': 98, 'ROI': 5.1}\nyandex {'revenue': 179, 'cost': 153, 'ROI': 16.99}\nfacebook {'revenue': 103, 'cost': 110, 'ROI': -6.36}\nadwords {'revenue': 35, 'cost': 34, 'ROI': 2.94}\ntwitter {'revenue': 11, 'cost': 24, 'ROI': -54.17}\n"
     ]
    }
   ],
   "source": [
    "results = {\n",
    "    'vk': {'revenue': 103, 'cost': 98},\n",
    "    'yandex': {'revenue': 179, 'cost': 153},\n",
    "    'facebook': {'revenue': 103, 'cost': 110},\n",
    "    'adwords': {'revenue': 35, 'cost': 34},\n",
    "    'twitter': {'revenue': 11, 'cost': 24},\n",
    "}\n",
    "\n",
    "for source in results:\n",
    "    ROI = round((results[source]['revenue'] / results[source]['cost'] - 1) * 100, 2)\n",
    "    results[source].update([('ROI',ROI)])\n",
    "\n",
    "for source in results:\n",
    "    print(source, results[source])    "
   ]
  },
  {
   "source": [
    "### 4. Максимальный объем продаж на канале\n",
    "Дана переменная, в которой хранится статистика рекламных каналов по объемам продаж (пример структуры данных приведен ниже). Напишите программу, которая возвращает название канала с максимальным объемом продаж.\n"
   ],
   "cell_type": "markdown",
   "metadata": {}
  },
  {
   "cell_type": "code",
   "execution_count": 70,
   "metadata": {},
   "outputs": [
    {
     "output_type": "stream",
     "name": "stdout",
     "text": [
      "Максимальный объем продаж на рекламном канале: vk\n"
     ]
    }
   ],
   "source": [
    "stats = {'facebook': 55, 'yandex': 115, 'vk': 120, 'google': 99, 'email': 42, 'ok': 98}\n",
    "\n",
    "max_source_value = 0\n",
    "\n",
    "for source in stats:\n",
    "    if stats[source] > max_source_value:\n",
    "        max_source_value = stats[source]\n",
    "        max_source_key = source\n",
    "\n",
    "print(\"Максимальный объем продаж на рекламном канале:\", max_source_key)"
   ]
  },
  {
   "source": [
    "### 5. Словарь из списка\n",
    "Дан список произвольной длины. Необходимо написать код, который на основе исходного списка составит словарь такого уровня вложенности, какова длина исходного списка."
   ],
   "cell_type": "markdown",
   "metadata": {}
  },
  {
   "cell_type": "code",
   "execution_count": 71,
   "metadata": {},
   "outputs": [
    {
     "output_type": "stream",
     "name": "stdout",
     "text": [
      "{'2018-01-01': {'yandex': {'cpc': 100}}}\n"
     ]
    }
   ],
   "source": [
    "my_list = ['2018-01-01', 'yandex', 'cpc', 100]\n",
    "\n",
    "if len(my_list) >= 2:\n",
    "    my_dict = {my_list[-2]: my_list[-1]}\n",
    "\n",
    "    for i in range(3, len(my_list) + 1):\n",
    "        my_dict = {my_list[-i]: my_dict}\n",
    "\n",
    "    print(my_dict)\n",
    "else:\n",
    "    print('список слишком короткий, чтобы стать словарем')    "
   ]
  },
  {
   "source": [
    "### 6. Bill of materials\n",
    "Дана книга рецептов с информацией о том, сколько ингредиентов нужно для приготовления блюда в расчете на одну порцию (пример данных представлен ниже).\n",
    "Напишите программу, которая будет запрашивать у пользователя количество порций для приготовления этих блюд и отображать информацию о суммарном количестве требуемых ингредиентов в указанном виде."
   ],
   "cell_type": "markdown",
   "metadata": {}
  },
  {
   "cell_type": "code",
   "execution_count": 79,
   "metadata": {},
   "outputs": [
    {
     "output_type": "stream",
     "name": "stdout",
     "text": [
      "Сыр: 210 гр\nТоматы: 66 шт\nОгурцы: 60 гр\nМаслины: 30 гр\nОливковое масло: 60 мл\nСалат: 30 гр\nПерец: 60 гр\nКолбаса: 90 гр\nБекон: 90 гр\nОливки: 30 гр\nТесто: 300 гр\nЛимон: 3 шт\nВода: 600 мл\nСахар: 30 гр\nЛайм: 60 гр\n"
     ]
    }
   ],
   "source": [
    "cook_book = {\n",
    "    'салат': [\n",
    "        {'ingridient_name': 'сыр', 'quantity': 50, 'measure': 'гр'},\n",
    "        {'ingridient_name': 'томаты', 'quantity': 2, 'measure': 'шт'},\n",
    "        {'ingridient_name': 'огурцы', 'quantity': 20, 'measure': 'гр'},\n",
    "        {'ingridient_name': 'маслины', 'quantity': 10, 'measure': 'гр'},\n",
    "        {'ingridient_name': 'оливковое масло', 'quantity': 20, 'measure': 'мл'},\n",
    "        {'ingridient_name': 'салат', 'quantity': 10, 'measure': 'гр'},\n",
    "        {'ingridient_name': 'перец', 'quantity': 20, 'measure': 'гр'}\n",
    "    ],\n",
    "    'пицца': [\n",
    "        {'ingridient_name': 'сыр', 'quantity': 20, 'measure': 'гр'},\n",
    "        {'ingridient_name': 'колбаса', 'quantity': 30, 'measure': 'гр'},\n",
    "        {'ingridient_name': 'бекон', 'quantity': 30, 'measure': 'гр'},\n",
    "        {'ingridient_name': 'оливки', 'quantity': 10, 'measure': 'гр'},\n",
    "        {'ingridient_name': 'томаты', 'quantity': 20, 'measure': 'гр'},\n",
    "        {'ingridient_name': 'тесто', 'quantity': 100, 'measure': 'гр'},\n",
    "    ],\n",
    "    'лимонад': [\n",
    "        {'ingridient_name': 'лимон', 'quantity': 1, 'measure': 'шт'},\n",
    "        {'ingridient_name': 'вода', 'quantity': 200, 'measure': 'мл'},\n",
    "        {'ingridient_name': 'сахар', 'quantity': 10, 'measure': 'гр'},\n",
    "        {'ingridient_name': 'лайм', 'quantity': 20, 'measure': 'гр'},\n",
    "    ]\n",
    "}\n",
    "\n",
    "result = {}\n",
    "\n",
    "courses = int(input(\"Введите количество порций:\"))\n",
    "\n",
    "for recipe in cook_book:\n",
    "    for product in cook_book[recipe]:\n",
    "        ingridient_name = product['ingridient_name']\n",
    "        qty = product['quantity']\n",
    "        measure = product['measure']\n",
    "        if result.setdefault(ingridient_name, [qty, measure]) != [qty, measure]:\n",
    "            result[ingridient_name][0] += qty\n",
    "\n",
    "for product in result:\n",
    "   print(f\"{product.capitalize()}: {result[product][0] * courses}\", result[product][1])\n"
   ]
  }
 ]
}