{
 "metadata": {
  "language_info": {
   "codemirror_mode": {
    "name": "ipython",
    "version": 3
   },
   "file_extension": ".py",
   "mimetype": "text/x-python",
   "name": "python",
   "nbconvert_exporter": "python",
   "pygments_lexer": "ipython3",
   "version": "3.8.5-final"
  },
  "orig_nbformat": 2,
  "kernelspec": {
   "name": "python3",
   "display_name": "Python 3",
   "language": "python"
  }
 },
 "nbformat": 4,
 "nbformat_minor": 2,
 "cells": [
  {
   "source": [
    "## Домашнее задание «Управляющие конструкции и коллекции» часть 1\n",
    "\n",
    "### 1. Средняя буква"
   ],
   "cell_type": "markdown",
   "metadata": {}
  },
  {
   "cell_type": "code",
   "execution_count": 9,
   "metadata": {},
   "outputs": [
    {
     "output_type": "stream",
     "name": "stdout",
     "text": [
      "es\n"
     ]
    }
   ],
   "source": [
    "test_word = 'test'\n",
    "\n",
    "word_length = len(test_word)\n",
    "if word_length % 2 == 0:\n",
    "    print(test_word[(word_length // 2 - 1):(word_length // 2 + 1)])\n",
    "else:\n",
    "    print(test_word[(word_length // 2)])"
   ]
  },
  {
   "source": [
    "\n",
    "### 2. Сумма введенных чисел"
   ],
   "cell_type": "markdown",
   "metadata": {}
  },
  {
   "cell_type": "code",
   "execution_count": 21,
   "metadata": {},
   "outputs": [
    {
     "output_type": "stream",
     "name": "stdout",
     "text": [
      "Результат: 8.0\n"
     ]
    }
   ],
   "source": [
    "list_of_numbers = []\n",
    "\n",
    "while True:\n",
    "    current_number = int(input(\"Введите число: \"))\n",
    "    list_of_numbers.append(current_number)\n",
    "    if current_number == 0:\n",
    "        print(\"Результат:\", sum(list_of_numbers))\n",
    "        break"
   ]
  },
  {
   "source": [
    "\n",
    "### 3. Сервис знакомств"
   ],
   "cell_type": "markdown",
   "metadata": {}
  },
  {
   "cell_type": "code",
   "execution_count": 54,
   "metadata": {},
   "outputs": [
    {
     "output_type": "stream",
     "name": "stdout",
     "text": [
      "Alex и Emma\nArthur и Kate\nJohn и Kira\nPeter и Liza\nRichard и Trisha\n"
     ]
    }
   ],
   "source": [
    "boys = ['Peter', 'Alex', 'John', 'Arthur', 'Richard']\n",
    "girls = ['Kate', 'Liza', 'Kira', 'Emma', 'Trisha']\n",
    "\n",
    "if len(boys) == len(girls):\n",
    "    for pair in list(zip(sorted(boys), sorted(girls))):\n",
    "        print(pair[0], 'и', pair[1])\n",
    "else:\n",
    "    print(\"Внимание, кто-то может остаться без пары!\")\n"
   ]
  },
  {
   "source": [
    "\n",
    "### 4. Средняя температура по странам"
   ],
   "cell_type": "markdown",
   "metadata": {}
  },
  {
   "cell_type": "code",
   "execution_count": 64,
   "metadata": {},
   "outputs": [
    {
     "output_type": "stream",
     "name": "stdout",
     "text": [
      "Средняя температура в странах:\nThailand - 23.9\nGermany - 13.8\nRussia - 3.7\nPoland - 12.0\n"
     ]
    }
   ],
   "source": [
    "countries_temperature = [\n",
    "    ['Thailand', [75.2, 77, 78.8, 73.4, 68, 75.2, 77]],\n",
    "    ['Germany', [57.2, 55.4, 59, 59, 53.6]],\n",
    "    ['Russia', [35.6, 37.4, 39.2, 41, 42.8, 39.2, 35.6]],\n",
    "    ['Poland', [50, 50, 53.6, 57.2, 55.4, 55.4]]\n",
    "]\n",
    "\n",
    "print('Средняя температура в странах:')\n",
    "for country in countries_temperature:\n",
    "    print(\n",
    "        country[0], '-', \n",
    "        round((sum(country[1]) / len(country[1]) - 32) / (9 / 5), 1)\n",
    "    )"
   ]
  },
  {
   "source": [
    "\n",
    "### 5. Среднее значение просмотров на пользователя"
   ],
   "cell_type": "markdown",
   "metadata": {}
  }
 ]
}