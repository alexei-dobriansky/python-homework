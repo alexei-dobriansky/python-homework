{
  "cells": [
    {
      "cell_type": "markdown",
      "metadata": {
        "id": "5q_cA4HkYgMe"
      },
      "source": [
        "## Домашнее задание к лекции \"Основы веб-скрапинга и работы с API\"\n"
      ]
    },
    {
      "cell_type": "markdown",
      "metadata": {
        "id": "uwyXlDArYplM"
      },
      "source": [
        "### Задание 1\n",
        "Парсинг новостей с сайта https://habr.com/ru/all"
      ]
    },
    {
      "cell_type": "code",
      "execution_count": 1,
      "metadata": {
        "id": "1LBpWI6SSoD3"
      },
      "outputs": [],
      "source": [
        "import requests\n",
        "from bs4 import BeautifulSoup\n",
        "import pandas as pd\n",
        "import re\n",
        "from datetime import datetime, timedelta\n",
        "import time\n",
        "\n",
        "KEYWORDS = ['время', 'код']\n",
        "\n",
        "def contains_keywords(text):\n",
        "    for keyword in KEYWORDS:\n",
        "        if re.findall(r'\\b{}\\b'.format(keyword.lower()), text.lower()):\n",
        "            return True\n",
        "    return False\n",
        "\n",
        "def get_full_text(link):\n",
        "    response = requests.get(link)\n",
        "    time.sleep(0.5)\n",
        "\n",
        "    soup = BeautifulSoup(response.text, 'html.parser')\n",
        "    return soup.find('div', class_='post__body post__body_full').text.strip()\n",
        "\n",
        "def find_articles(full_version=False):\n",
        "    response = requests.get('https://habr.com/ru/all/')\n",
        "    time.sleep(0.5)\n",
        "\n",
        "    soup = BeautifulSoup(response.text, 'html.parser')\n",
        "    articles = soup.find_all('article', class_='post post_preview')\n",
        "    \n",
        "    result = pd.DataFrame()\n",
        "    for article in articles:\n",
        "        date = article.find('span', class_='post__time').text.split('в')[0]        \n",
        "        date = date.replace('сегодня', datetime.strftime(datetime.now(), '%d %B %Y'))\n",
        "        date = date.replace('вчера', datetime.strftime(datetime.now() + timedelta(days=-1), '%d %B %Y'))\n",
        "        \n",
        "        title = article.find('h2', class_='post__title').text.strip()\n",
        "        link = article.find('a', class_='post__title_link').get('href')\n",
        "\n",
        "        if full_version:\n",
        "            full_text = get_full_text(link)\n",
        "            if contains_keywords(title + ' ' + full_text):\n",
        "                row = {'date': date, 'title': title, 'link': link, 'text': full_text}\n",
        "                result = pd.concat([result, pd.DataFrame([row])])\n",
        "        else:\n",
        "            short_text = article.find('div', class_='post__body post__body_crop').text.strip()\n",
        "            if contains_keywords(title + ' ' + short_text):\n",
        "                row = {'date': date, 'title': title, 'link': link}\n",
        "                result = pd.concat([result, pd.DataFrame([row])])\n",
        "    \n",
        "    return result"
      ]
    },
    {
      "cell_type": "code",
      "execution_count": 2,
      "metadata": {
        "colab": {
          "base_uri": "https://localhost:8080/",
          "height": 106
        },
        "id": "SCrnOnf4g-Pr",
        "outputId": "fde7f5f3-eb1f-479e-8b79-292eb5b51795"
      },
      "outputs": [
        {
          "data": {
            "text/html": "<div>\n<style scoped>\n    .dataframe tbody tr th:only-of-type {\n        vertical-align: middle;\n    }\n\n    .dataframe tbody tr th {\n        vertical-align: top;\n    }\n\n    .dataframe thead th {\n        text-align: right;\n    }\n</style>\n<table border=\"1\" class=\"dataframe\">\n  <thead>\n    <tr style=\"text-align: right;\">\n      <th></th>\n      <th>date</th>\n      <th>title</th>\n      <th>link</th>\n    </tr>\n  </thead>\n  <tbody>\n    <tr>\n      <th>0</th>\n      <td>02 April 2021</td>\n      <td>10 плат для начала разработки IoT в 2021</td>\n      <td>https://habr.com/ru/company/otus/blog/550446/</td>\n    </tr>\n    <tr>\n      <th>0</th>\n      <td>02 April 2021</td>\n      <td>Дайджест релизов мобильной разработки Mail.ru ...</td>\n      <td>https://habr.com/ru/company/mailru/blog/550384/</td>\n    </tr>\n    <tr>\n      <th>0</th>\n      <td>02 April 2021</td>\n      <td>Как я нашел баг, который раскрывал ваш пароль ...</td>\n      <td>https://habr.com/ru/company/skillfactory/blog/...</td>\n    </tr>\n  </tbody>\n</table>\n</div>",
            "text/plain": "             date                                              title  \\\n0  02 April 2021            10 плат для начала разработки IoT в 2021   \n0  02 April 2021   Дайджест релизов мобильной разработки Mail.ru ...   \n0  02 April 2021   Как я нашел баг, который раскрывал ваш пароль ...   \n\n                                                link  \n0      https://habr.com/ru/company/otus/blog/550446/  \n0    https://habr.com/ru/company/mailru/blog/550384/  \n0  https://habr.com/ru/company/skillfactory/blog/...  "
          },
          "execution_count": 2,
          "metadata": {},
          "output_type": "execute_result"
        }
      ],
      "source": [
        "find_articles() # основное задание"
      ]
    },
    {
      "cell_type": "code",
      "execution_count": 3,
      "metadata": {
        "colab": {
          "base_uri": "https://localhost:8080/",
          "height": 516
        },
        "id": "0IIDDSIa0BCH",
        "outputId": "e41a61b5-c987-4c7d-d377-4ce74a74935d"
      },
      "outputs": [
        {
          "data": {
            "text/html": "<div>\n<style scoped>\n    .dataframe tbody tr th:only-of-type {\n        vertical-align: middle;\n    }\n\n    .dataframe tbody tr th {\n        vertical-align: top;\n    }\n\n    .dataframe thead th {\n        text-align: right;\n    }\n</style>\n<table border=\"1\" class=\"dataframe\">\n  <thead>\n    <tr style=\"text-align: right;\">\n      <th></th>\n      <th>date</th>\n      <th>title</th>\n      <th>link</th>\n      <th>text</th>\n    </tr>\n  </thead>\n  <tbody>\n    <tr>\n      <th>0</th>\n      <td>02 April 2021</td>\n      <td>10 плат для начала разработки IoT в 2021</td>\n      <td>https://habr.com/ru/company/otus/blog/550446/</td>\n      <td>Есть масса хороших вариантов для стартаИнтерне...</td>\n    </tr>\n    <tr>\n      <th>0</th>\n      <td>02 April 2021</td>\n      <td>Пишем свою навигацию в Qt</td>\n      <td>https://habr.com/ru/post/550440/</td>\n      <td>Всем привет. Я android разработчик с небольшим...</td>\n    </tr>\n    <tr>\n      <th>0</th>\n      <td>02 April 2021</td>\n      <td>Презентация компании Airbyte, благодаря которо...</td>\n      <td>https://habr.com/ru/post/550282/</td>\n      <td>Всем привет. Я занимаюсь презентациями и иллюс...</td>\n    </tr>\n    <tr>\n      <th>0</th>\n      <td>02 April 2021</td>\n      <td>Мультиклеточная архитектура: тесты и развитие</td>\n      <td>https://habr.com/ru/post/550434/</td>\n      <td>В этой статье мы поговорим о развитии архитект...</td>\n    </tr>\n    <tr>\n      <th>0</th>\n      <td>02 April 2021</td>\n      <td>Python &amp;amp;amp; EEL. Делаем просто на Python’...</td>\n      <td>https://habr.com/ru/post/550426/</td>\n      <td>ВступлениеТема красивых интерфейсов была и буд...</td>\n    </tr>\n    <tr>\n      <th>0</th>\n      <td>02 April 2021</td>\n      <td>Кто любит возмущаться</td>\n      <td>https://habr.com/ru/company/itelma/blog/550418/</td>\n      <td>В 2020 году возмущение стало новейшим наркотик...</td>\n    </tr>\n    <tr>\n      <th>0</th>\n      <td>02 April 2021</td>\n      <td>Дайджест релизов мобильной разработки Mail.ru ...</td>\n      <td>https://habr.com/ru/company/mailru/blog/550384/</td>\n      <td>В прошлом году мы дружно перешли на удалёнку и...</td>\n    </tr>\n    <tr>\n      <th>0</th>\n      <td>02 April 2021</td>\n      <td>Как я нашел баг, который раскрывал ваш пароль ...</td>\n      <td>https://habr.com/ru/company/skillfactory/blog/...</td>\n      <td>В охоте на проблемы безопасности погоня за неи...</td>\n    </tr>\n    <tr>\n      <th>0</th>\n      <td>02 April 2021</td>\n      <td>Перевод статьи «В защиту Ричарда Столлмана»</td>\n      <td>https://habr.com/ru/post/550406/</td>\n      <td>Два года назад, в результате клеветнической ка...</td>\n    </tr>\n    <tr>\n      <th>0</th>\n      <td>02 April 2021</td>\n      <td>Компьютеры, какими я их любил</td>\n      <td>https://habr.com/ru/company/itelma/blog/550404/</td>\n      <td>Я много лет боролся с проблемой синхронизации ...</td>\n    </tr>\n    <tr>\n      <th>0</th>\n      <td>02 April 2021</td>\n      <td>Подключаем SSD форм-фактора М2 к материнке, у ...</td>\n      <td>https://habr.com/ru/post/550402/</td>\n      <td>ПредысторияДавным-давно, когда в мире жестких ...</td>\n    </tr>\n    <tr>\n      <th>0</th>\n      <td>02 April 2021</td>\n      <td>ТОП-3 ИБ-событий недели по версии Jet CSIRT</td>\n      <td>https://habr.com/ru/company/jetinfosystems/blo...</td>\n      <td>На этой неделе в подборке новостей Jet CSIRT: ...</td>\n    </tr>\n    <tr>\n      <th>0</th>\n      <td>02 April 2021</td>\n      <td>Университет 20.35: инструкция к применению</td>\n      <td>https://habr.com/ru/company/2035_university/bl...</td>\n      <td>Кем и каким человеку быть — его выбор. Менять ...</td>\n    </tr>\n    <tr>\n      <th>0</th>\n      <td>02 April 2021</td>\n      <td>Открыта программа раннего доступа к JetBrains ...</td>\n      <td>https://habr.com/ru/company/JetBrains/blog/550...</td>\n      <td>Не секрет, что Python является одним из самых ...</td>\n    </tr>\n  </tbody>\n</table>\n</div>",
            "text/plain": "             date                                              title  \\\n0  02 April 2021            10 плат для начала разработки IoT в 2021   \n0  02 April 2021                           Пишем свою навигацию в Qt   \n0  02 April 2021   Презентация компании Airbyte, благодаря которо...   \n0  02 April 2021       Мультиклеточная архитектура: тесты и развитие   \n0  02 April 2021   Python &amp;amp; EEL. Делаем просто на Python’...   \n0  02 April 2021                               Кто любит возмущаться   \n0  02 April 2021   Дайджест релизов мобильной разработки Mail.ru ...   \n0  02 April 2021   Как я нашел баг, который раскрывал ваш пароль ...   \n0  02 April 2021         Перевод статьи «В защиту Ричарда Столлмана»   \n0  02 April 2021                       Компьютеры, какими я их любил   \n0  02 April 2021   Подключаем SSD форм-фактора М2 к материнке, у ...   \n0  02 April 2021         ТОП-3 ИБ-событий недели по версии Jet CSIRT   \n0  02 April 2021          Университет 20.35: инструкция к применению   \n0  02 April 2021   Открыта программа раннего доступа к JetBrains ...   \n\n                                                link  \\\n0      https://habr.com/ru/company/otus/blog/550446/   \n0                   https://habr.com/ru/post/550440/   \n0                   https://habr.com/ru/post/550282/   \n0                   https://habr.com/ru/post/550434/   \n0                   https://habr.com/ru/post/550426/   \n0    https://habr.com/ru/company/itelma/blog/550418/   \n0    https://habr.com/ru/company/mailru/blog/550384/   \n0  https://habr.com/ru/company/skillfactory/blog/...   \n0                   https://habr.com/ru/post/550406/   \n0    https://habr.com/ru/company/itelma/blog/550404/   \n0                   https://habr.com/ru/post/550402/   \n0  https://habr.com/ru/company/jetinfosystems/blo...   \n0  https://habr.com/ru/company/2035_university/bl...   \n0  https://habr.com/ru/company/JetBrains/blog/550...   \n\n                                                text  \n0  Есть масса хороших вариантов для стартаИнтерне...  \n0  Всем привет. Я android разработчик с небольшим...  \n0  Всем привет. Я занимаюсь презентациями и иллюс...  \n0  В этой статье мы поговорим о развитии архитект...  \n0  ВступлениеТема красивых интерфейсов была и буд...  \n0  В 2020 году возмущение стало новейшим наркотик...  \n0  В прошлом году мы дружно перешли на удалёнку и...  \n0  В охоте на проблемы безопасности погоня за неи...  \n0  Два года назад, в результате клеветнической ка...  \n0  Я много лет боролся с проблемой синхронизации ...  \n0  ПредысторияДавным-давно, когда в мире жестких ...  \n0  На этой неделе в подборке новостей Jet CSIRT: ...  \n0  Кем и каким человеку быть — его выбор. Менять ...  \n0  Не секрет, что Python является одним из самых ...  "
          },
          "execution_count": 3,
          "metadata": {},
          "output_type": "execute_result"
        }
      ],
      "source": [
        "find_articles(full_version=True) # дополнительное задание"
      ]
    },
    {
      "cell_type": "markdown",
      "metadata": {
        "id": "Uz9Trhvy17py"
      },
      "source": [
        "### Задание 2 - основное\n",
        "Have I been hacked?"
      ]
    },
    {
      "cell_type": "code",
      "execution_count": 5,
      "metadata": {
        "colab": {
          "base_uri": "https://localhost:8080/",
          "height": 399
        },
        "id": "FaTLCkI-2Bye",
        "outputId": "22a2f332-c932-4307-8605-aa837c56b519"
      },
      "outputs": [
        {
          "data": {
            "text/html": "<div>\n<style scoped>\n    .dataframe tbody tr th:only-of-type {\n        vertical-align: middle;\n    }\n\n    .dataframe tbody tr th {\n        vertical-align: top;\n    }\n\n    .dataframe thead th {\n        text-align: right;\n    }\n</style>\n<table border=\"1\" class=\"dataframe\">\n  <thead>\n    <tr style=\"text-align: right;\">\n      <th></th>\n      <th>date</th>\n      <th>desc</th>\n      <th>email</th>\n      <th>source</th>\n    </tr>\n  </thead>\n  <tbody>\n    <tr>\n      <th>0</th>\n      <td>2016-11-07</td>\n      <td>In October 2015, the Chinese internet and gami...</td>\n      <td>xxx@ya.ru</td>\n      <td>ir.netease.com</td>\n    </tr>\n    <tr>\n      <th>1</th>\n      <td>2020-07-30</td>\n      <td>In March 2019, the Brazilian travel agency Her...</td>\n      <td>xxx@ya.ru</td>\n      <td>hurb.com</td>\n    </tr>\n    <tr>\n      <th>2</th>\n      <td>2019-03-28</td>\n      <td>Big data e-mail verification platform verifica...</td>\n      <td>xxx@ya.ru</td>\n      <td>verifications.io</td>\n    </tr>\n    <tr>\n      <th>3</th>\n      <td>2020-05-21</td>\n      <td>At some time in 2020, the Russian social netwo...</td>\n      <td>xxx@ya.ru</td>\n      <td>vk.com</td>\n    </tr>\n    <tr>\n      <th>4</th>\n      <td>2016-11-01</td>\n      <td>In 2011, Russian instant messaging service pro...</td>\n      <td>xxx@ya.ru</td>\n      <td>qip.ru</td>\n    </tr>\n    <tr>\n      <th>...</th>\n      <td>...</td>\n      <td>...</td>\n      <td>...</td>\n      <td>...</td>\n    </tr>\n    <tr>\n      <th>135</th>\n      <td>2017-01-16</td>\n      <td>In September 2016, CatchItEnglish.com was brea...</td>\n      <td>yyy@gmail.com</td>\n      <td>catchitenglish.com</td>\n    </tr>\n    <tr>\n      <th>136</th>\n      <td>2017-10-29</td>\n      <td>Online recruitment site JobStreet was allegedl...</td>\n      <td>yyy@gmail.com</td>\n      <td>jobstreet.com</td>\n    </tr>\n    <tr>\n      <th>137</th>\n      <td>2017-05-26</td>\n      <td>In February 2016, LEET's user database was all...</td>\n      <td>yyy@gmail.com</td>\n      <td>leet.cc</td>\n    </tr>\n    <tr>\n      <th>138</th>\n      <td>2016-12-05</td>\n      <td>At an unknown date ClassroomCash.org was hacke...</td>\n      <td>yyy@gmail.com</td>\n      <td>classroomcash.org</td>\n    </tr>\n    <tr>\n      <th>139</th>\n      <td>2017-03-24</td>\n      <td>Youku is a large Chinese video content company...</td>\n      <td>yyy@gmail.com</td>\n      <td>youku.com</td>\n    </tr>\n  </tbody>\n</table>\n<p>140 rows × 4 columns</p>\n</div>",
            "text/plain": "           date                                               desc  \\\n0    2016-11-07  In October 2015, the Chinese internet and gami...   \n1    2020-07-30  In March 2019, the Brazilian travel agency Her...   \n2    2019-03-28  Big data e-mail verification platform verifica...   \n3    2020-05-21  At some time in 2020, the Russian social netwo...   \n4    2016-11-01  In 2011, Russian instant messaging service pro...   \n..          ...                                                ...   \n135  2017-01-16  In September 2016, CatchItEnglish.com was brea...   \n136  2017-10-29  Online recruitment site JobStreet was allegedl...   \n137  2017-05-26  In February 2016, LEET's user database was all...   \n138  2016-12-05  At an unknown date ClassroomCash.org was hacke...   \n139  2017-03-24  Youku is a large Chinese video content company...   \n\n             email              source  \n0        xxx@ya.ru      ir.netease.com  \n1        xxx@ya.ru            hurb.com  \n2        xxx@ya.ru    verifications.io  \n3        xxx@ya.ru              vk.com  \n4        xxx@ya.ru              qip.ru  \n..             ...                 ...  \n135  yyy@gmail.com  catchitenglish.com  \n136  yyy@gmail.com       jobstreet.com  \n137  yyy@gmail.com             leet.cc  \n138  yyy@gmail.com   classroomcash.org  \n139  yyy@gmail.com           youku.com  \n\n[140 rows x 4 columns]"
          },
          "execution_count": 5,
          "metadata": {},
          "output_type": "execute_result"
        }
      ],
      "source": [
        "import json\r\n",
        "\r\n",
        "EMAIL = [\"xxx@ya.ru\", \"yyy@gmail.com\"]\r\n",
        "\r\n",
        "headers = {\r\n",
        "    'Vaar-Header-App-Build-Version': '1.0.0',\r\n",
        "    'Vaar-Header-App-Product': 'hackcheck-web-avast',\r\n",
        "    'Vaar-Header-App-Product-Name': 'hackcheck-web-avast',\r\n",
        "    'Vaar-Version': '0'\r\n",
        "}\r\n",
        "json_ = json.dumps({'emailAddresses': EMAIL})\r\n",
        "\r\n",
        "response = requests.post('https://identityprotection.avast.com/v1/web/query/site-breaches/unauthorized-data', data=json_, headers=headers)\r\n",
        "time.sleep(0.5)\r\n",
        "\r\n",
        "dict_ = json.loads(response.text)\r\n",
        "\r\n",
        "breach_details = pd.DataFrame()\r\n",
        "for email, breaches_dict in dict_['summary'].items():\r\n",
        "    for breach in breaches_dict['breaches']:\r\n",
        "        date = datetime.strptime(dict_['breaches'][str(breach)]['publishDate'], '%Y-%m-%dT%H:%M:%SZ').date()\r\n",
        "        source = dict_['breaches'][str(breach)]['site']\r\n",
        "        desc = dict_['breaches'][str(breach)]['description']\r\n",
        "\r\n",
        "        row = {'email': email, 'date': date, 'source': source, 'desc': desc}\r\n",
        "        breach_details = breach_details.append(row, ignore_index=True)\r\n",
        "\r\n",
        "breach_details"
      ]
    },
    {
      "cell_type": "markdown",
      "metadata": {
        "id": "hoBTj15_X7GO"
      },
      "source": [
        "### Задание 2 - дополнительное\n",
        "50 постов со стены группы в vk"
      ]
    },
    {
      "cell_type": "code",
      "execution_count": 29,
      "metadata": {
        "id": "SuCVn8FIYBxc"
      },
      "outputs": [
        {
          "data": {
            "text/html": "<div>\n<style scoped>\n    .dataframe tbody tr th:only-of-type {\n        vertical-align: middle;\n    }\n\n    .dataframe tbody tr th {\n        vertical-align: top;\n    }\n\n    .dataframe thead th {\n        text-align: right;\n    }\n</style>\n<table border=\"1\" class=\"dataframe\">\n  <thead>\n    <tr style=\"text-align: right;\">\n      <th></th>\n      <th>date</th>\n      <th>text</th>\n    </tr>\n  </thead>\n  <tbody>\n    <tr>\n      <th>0</th>\n      <td>2021-04-02</td>\n      <td>Пишем коды для веб-страниц, осваиваем языки пр...</td>\n    </tr>\n    <tr>\n      <th>1</th>\n      <td>2021-04-01</td>\n      <td>Прокрастинация — это когда нужно работать здес...</td>\n    </tr>\n    <tr>\n      <th>2</th>\n      <td>2021-04-01</td>\n      <td>Чтобы сменить специальность, нужно признать, ч...</td>\n    </tr>\n    <tr>\n      <th>3</th>\n      <td>2021-03-31</td>\n      <td>Разыгрываем 10 доступов к библиотеке видеокурс...</td>\n    </tr>\n    <tr>\n      <th>4</th>\n      <td>2021-03-31</td>\n      <td>Кажется, в SMM всё просто: написал пост, ответ...</td>\n    </tr>\n    <tr>\n      <th>5</th>\n      <td>2021-03-30</td>\n      <td>В 2020 году сербская художница-перформанистка ...</td>\n    </tr>\n    <tr>\n      <th>6</th>\n      <td>2021-03-30</td>\n      <td>В новом выпуске НетоNews рассказали про самые ...</td>\n    </tr>\n    <tr>\n      <th>7</th>\n      <td>2021-03-29</td>\n      <td>❌ Бросить попытки после первой неудачи \\n❓Учит...</td>\n    </tr>\n    <tr>\n      <th>8</th>\n      <td>2021-03-29</td>\n      <td>Записывайтесь на бесплатный курс «Диджитал-ста...</td>\n    </tr>\n    <tr>\n      <th>9</th>\n      <td>2021-03-28</td>\n      <td>Вместе с сервисом Bookmate запустили квиз по к...</td>\n    </tr>\n    <tr>\n      <th>10</th>\n      <td>2021-03-28</td>\n      <td>Всё, что окружает нас в повседневной жизни так...</td>\n    </tr>\n    <tr>\n      <th>11</th>\n      <td>2021-03-27</td>\n      <td>В этой афише мероприятий онлайн-эфир о развити...</td>\n    </tr>\n    <tr>\n      <th>12</th>\n      <td>2021-03-27</td>\n      <td>Разместить ссылку на свой сайт — это тоже свое...</td>\n    </tr>\n    <tr>\n      <th>13</th>\n      <td>2021-03-26</td>\n      <td>Каждый день дизайнеры меняют IT и digital, фор...</td>\n    </tr>\n    <tr>\n      <th>14</th>\n      <td>2021-03-26</td>\n      <td>Точно решили, кем хотите стать в диджитале, но...</td>\n    </tr>\n    <tr>\n      <th>15</th>\n      <td>2021-03-25</td>\n      <td>Мудборд — неотъемлемая часть подготовки любого...</td>\n    </tr>\n    <tr>\n      <th>16</th>\n      <td>2021-03-25</td>\n      <td>Почему Java лучший выбор для новичка, какие на...</td>\n    </tr>\n    <tr>\n      <th>17</th>\n      <td>2021-03-24</td>\n      <td>Что для вас важнее всего в работе? \\nКому-то д...</td>\n    </tr>\n    <tr>\n      <th>18</th>\n      <td>2021-03-24</td>\n      <td>🚀 Запустили бесплатный курс «Основы Figma» \\n ...</td>\n    </tr>\n    <tr>\n      <th>19</th>\n      <td>2021-03-23</td>\n      <td>Если вы знаете английский язык — у вас могут б...</td>\n    </tr>\n    <tr>\n      <th>20</th>\n      <td>2021-03-23</td>\n      <td>В новом выпуске НетоNews обсудим изменение поз...</td>\n    </tr>\n    <tr>\n      <th>21</th>\n      <td>2021-03-22</td>\n      <td>Что общего между лентой новостей в Инстаграм и...</td>\n    </tr>\n    <tr>\n      <th>22</th>\n      <td>2021-03-22</td>\n      <td>🚀 30 марта стартует бесплатный онлайн-курс «Пс...</td>\n    </tr>\n    <tr>\n      <th>23</th>\n      <td>2021-03-21</td>\n      <td>🎁 Запустили страницу с подарками и скидками от...</td>\n    </tr>\n    <tr>\n      <th>24</th>\n      <td>2021-03-21</td>\n      <td>Решиться на перемены — всегда непросто. Решить...</td>\n    </tr>\n    <tr>\n      <th>25</th>\n      <td>2021-03-20</td>\n      <td>В этой афише мероприятий конференции для дизай...</td>\n    </tr>\n    <tr>\n      <th>26</th>\n      <td>2021-03-20</td>\n      <td>*партнёрский пост* \\n \\n29 марта на сайте m-i-...</td>\n    </tr>\n    <tr>\n      <th>27</th>\n      <td>2021-03-20</td>\n      <td>Задача геймдизайнера не только нарисовать игру...</td>\n    </tr>\n    <tr>\n      <th>28</th>\n      <td>2021-03-19</td>\n      <td>Произведения искусства, которыми мы пользуемся...</td>\n    </tr>\n    <tr>\n      <th>29</th>\n      <td>2021-03-19</td>\n      <td>Я новичок, у меня совершенно нет опыта! 😰 \\n \\...</td>\n    </tr>\n    <tr>\n      <th>30</th>\n      <td>2021-03-18</td>\n      <td>Мы сталкиваемся с аналитикой гораздо чаще, чем...</td>\n    </tr>\n    <tr>\n      <th>31</th>\n      <td>2021-03-18</td>\n      <td>Вместе в природой просыпается накопившаяся за ...</td>\n    </tr>\n    <tr>\n      <th>32</th>\n      <td>2021-03-17</td>\n      <td>Весна — лучшее время для перемен. Чтобы узнать...</td>\n    </tr>\n    <tr>\n      <th>33</th>\n      <td>2021-03-17</td>\n      <td>🚀 29 марта стартует бесплатный онлайн-марафон ...</td>\n    </tr>\n    <tr>\n      <th>34</th>\n      <td>2021-03-16</td>\n      <td>Рано или поздно у любого копирайтера, SMM-мене...</td>\n    </tr>\n    <tr>\n      <th>35</th>\n      <td>2021-03-16</td>\n      <td>В новом выпуске НетоNews поговорим о частичной...</td>\n    </tr>\n    <tr>\n      <th>36</th>\n      <td>2021-03-15</td>\n      <td>Как на удалёнке выстроить хорошие к коллегами ...</td>\n    </tr>\n    <tr>\n      <th>37</th>\n      <td>2021-03-15</td>\n      <td>🔥 27 марта пройдёт бесплатный митап «Аналитика...</td>\n    </tr>\n    <tr>\n      <th>38</th>\n      <td>2021-03-14</td>\n      <td>Говорят, лидерами не рождаются, а становятся 😎...</td>\n    </tr>\n    <tr>\n      <th>39</th>\n      <td>2021-03-13</td>\n      <td>Выстраивать отношения с коллегами, решать зада...</td>\n    </tr>\n    <tr>\n      <th>40</th>\n      <td>2021-03-12</td>\n      <td>В эфире #пятничнаябеседка. Здесь мы обсуждаем,...</td>\n    </tr>\n    <tr>\n      <th>41</th>\n      <td>2021-03-12</td>\n      <td>Настраиваем рекламные кабинеты, пишем сценарий...</td>\n    </tr>\n    <tr>\n      <th>42</th>\n      <td>2021-03-11</td>\n      <td>Даже самый уверенный в себе человек испытывает...</td>\n    </tr>\n    <tr>\n      <th>43</th>\n      <td>2021-03-11</td>\n      <td>Интернет — пространство безграничных возможнос...</td>\n    </tr>\n    <tr>\n      <th>44</th>\n      <td>2021-03-10</td>\n      <td>Проверим, насколько хорошо вы знаете нас 😉 \\nЗ...</td>\n    </tr>\n    <tr>\n      <th>45</th>\n      <td>2021-03-10</td>\n      <td>🔥 15 марта стартует бесплатный курс «Как стать...</td>\n    </tr>\n    <tr>\n      <th>46</th>\n      <td>2021-03-09</td>\n      <td>Поиск изображений для своего блога, сайта или ...</td>\n    </tr>\n    <tr>\n      <th>47</th>\n      <td>2021-03-08</td>\n      <td>В марте на рынке вакансий настоящий бум — вспл...</td>\n    </tr>\n    <tr>\n      <th>48</th>\n      <td>2021-03-07</td>\n      <td>Сегодня много говорят о софт-скиллс — гибких н...</td>\n    </tr>\n    <tr>\n      <th>49</th>\n      <td>2021-03-06</td>\n      <td>Интересные онлайн-мероприятия в марте: вебинар...</td>\n    </tr>\n  </tbody>\n</table>\n</div>",
            "text/plain": "          date                                               text\n0   2021-04-02  Пишем коды для веб-страниц, осваиваем языки пр...\n1   2021-04-01  Прокрастинация — это когда нужно работать здес...\n2   2021-04-01  Чтобы сменить специальность, нужно признать, ч...\n3   2021-03-31  Разыгрываем 10 доступов к библиотеке видеокурс...\n4   2021-03-31  Кажется, в SMM всё просто: написал пост, ответ...\n5   2021-03-30  В 2020 году сербская художница-перформанистка ...\n6   2021-03-30  В новом выпуске НетоNews рассказали про самые ...\n7   2021-03-29  ❌ Бросить попытки после первой неудачи \\n❓Учит...\n8   2021-03-29  Записывайтесь на бесплатный курс «Диджитал-ста...\n9   2021-03-28  Вместе с сервисом Bookmate запустили квиз по к...\n10  2021-03-28  Всё, что окружает нас в повседневной жизни так...\n11  2021-03-27  В этой афише мероприятий онлайн-эфир о развити...\n12  2021-03-27  Разместить ссылку на свой сайт — это тоже свое...\n13  2021-03-26  Каждый день дизайнеры меняют IT и digital, фор...\n14  2021-03-26  Точно решили, кем хотите стать в диджитале, но...\n15  2021-03-25  Мудборд — неотъемлемая часть подготовки любого...\n16  2021-03-25  Почему Java лучший выбор для новичка, какие на...\n17  2021-03-24  Что для вас важнее всего в работе? \\nКому-то д...\n18  2021-03-24  🚀 Запустили бесплатный курс «Основы Figma» \\n ...\n19  2021-03-23  Если вы знаете английский язык — у вас могут б...\n20  2021-03-23  В новом выпуске НетоNews обсудим изменение поз...\n21  2021-03-22  Что общего между лентой новостей в Инстаграм и...\n22  2021-03-22  🚀 30 марта стартует бесплатный онлайн-курс «Пс...\n23  2021-03-21  🎁 Запустили страницу с подарками и скидками от...\n24  2021-03-21  Решиться на перемены — всегда непросто. Решить...\n25  2021-03-20  В этой афише мероприятий конференции для дизай...\n26  2021-03-20  *партнёрский пост* \\n \\n29 марта на сайте m-i-...\n27  2021-03-20  Задача геймдизайнера не только нарисовать игру...\n28  2021-03-19  Произведения искусства, которыми мы пользуемся...\n29  2021-03-19  Я новичок, у меня совершенно нет опыта! 😰 \\n \\...\n30  2021-03-18  Мы сталкиваемся с аналитикой гораздо чаще, чем...\n31  2021-03-18  Вместе в природой просыпается накопившаяся за ...\n32  2021-03-17  Весна — лучшее время для перемен. Чтобы узнать...\n33  2021-03-17  🚀 29 марта стартует бесплатный онлайн-марафон ...\n34  2021-03-16  Рано или поздно у любого копирайтера, SMM-мене...\n35  2021-03-16  В новом выпуске НетоNews поговорим о частичной...\n36  2021-03-15  Как на удалёнке выстроить хорошие к коллегами ...\n37  2021-03-15  🔥 27 марта пройдёт бесплатный митап «Аналитика...\n38  2021-03-14  Говорят, лидерами не рождаются, а становятся 😎...\n39  2021-03-13  Выстраивать отношения с коллегами, решать зада...\n40  2021-03-12  В эфире #пятничнаябеседка. Здесь мы обсуждаем,...\n41  2021-03-12  Настраиваем рекламные кабинеты, пишем сценарий...\n42  2021-03-11  Даже самый уверенный в себе человек испытывает...\n43  2021-03-11  Интернет — пространство безграничных возможнос...\n44  2021-03-10  Проверим, насколько хорошо вы знаете нас 😉 \\nЗ...\n45  2021-03-10  🔥 15 марта стартует бесплатный курс «Как стать...\n46  2021-03-09  Поиск изображений для своего блога, сайта или ...\n47  2021-03-08  В марте на рынке вакансий настоящий бум — вспл...\n48  2021-03-07  Сегодня много говорят о софт-скиллс — гибких н...\n49  2021-03-06  Интересные онлайн-мероприятия в марте: вебинар..."
          },
          "execution_count": 29,
          "metadata": {},
          "output_type": "execute_result"
        }
      ],
      "source": [
        "with open('token.txt') as f:\r\n",
        "    TOKEN = f.readline()\r\n",
        "\r\n",
        "GROUP = 'netology'\r\n",
        "\r\n",
        "params = {\r\n",
        "    'domain': GROUP,\r\n",
        "    'count': 50,\r\n",
        "    'filter': 'owner',\r\n",
        "    'access_token': TOKEN,\r\n",
        "    'v': '5.130'\r\n",
        "}\r\n",
        "\r\n",
        "response = requests.get('https://api.vk.com/method/wall.get', params=params)\r\n",
        "dict_ = json.loads(response.text)\r\n",
        "\r\n",
        "posts = pd.DataFrame()\r\n",
        "\r\n",
        "for post in dict_['response']['items']:\r\n",
        "    date = datetime.fromtimestamp(post['date']).date()\r\n",
        "    text = post['text']\r\n",
        "    posts = posts.append({'date': date, 'text': text}, ignore_index=True)\r\n",
        "\r\n",
        "posts"
      ]
    }
  ],
  "metadata": {
    "colab": {
      "collapsed_sections": [],
      "name": "parsing_homework.ipynb",
      "provenance": [],
      "toc_visible": true
    },
    "kernelspec": {
      "display_name": "Python 3.8.5 64-bit (conda)",
      "name": "python385jvsc74a57bd0485035c5b2a6f2b50dc2dc5ca51aeeb931032fbc9adc2e30c7c528d6bf8a9176"
    },
    "language_info": {
      "codemirror_mode": {
        "name": "ipython",
        "version": 3
      },
      "file_extension": ".py",
      "mimetype": "text/x-python",
      "name": "python",
      "nbconvert_exporter": "python",
      "pygments_lexer": "ipython3",
      "version": "3.8.5"
    }
  },
  "nbformat": 4,
  "nbformat_minor": 0
}