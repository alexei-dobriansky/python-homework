{
 "metadata": {
  "language_info": {
   "codemirror_mode": {
    "name": "ipython",
    "version": 3
   },
   "file_extension": ".py",
   "mimetype": "text/x-python",
   "name": "python",
   "nbconvert_exporter": "python",
   "pygments_lexer": "ipython3",
   "version": "3.8.5"
  },
  "orig_nbformat": 2,
  "kernelspec": {
   "name": "python385jvsc74a57bd0aac5523a9bb7bb2fbf00f872641b4aaf0de1a826fb3aeb29924c1570792b4757",
   "display_name": "Python 3.8.5 64-bit (conda)"
  },
  "metadata": {
   "interpreter": {
    "hash": "aac5523a9bb7bb2fbf00f872641b4aaf0de1a826fb3aeb29924c1570792b4757"
   }
  }
 },
 "nbformat": 4,
 "nbformat_minor": 2,
 "cells": [
  {
   "source": [
    "## Дипломная работа по курсу \"Python для анализа данных\""
   ],
   "cell_type": "markdown",
   "metadata": {}
  },
  {
   "source": [
    "Признаки:  \n",
    "1. satisfaction_level​ - Уровень удовлетворенности работой  \n",
    "2. Last_evaluation ​- Время с момента последней оценки в годах  \n",
    "3. number_projects​ - Количество проектов, выполненных за время работы  \n",
    "4. average_monthly_hours​ - Среднее количество часов на рабочем месте в месяц  \n",
    "5. time_spend_company​ - Стаж работы в компании в годах  \n",
    "6. work_accident​ - Происходили ли несчастные случаи на рабочем месте с сотрудником  \n",
    "7. left​ - уволился ли сотрудник  \n",
    "8. promotion_last_5years​ - повышался ли сотрудник за последние пять лет  \n",
    "9. department ​- отдел в котором работает сотрудник  \n",
    "10. salary​ - относительный уровень зарплаты"
   ],
   "cell_type": "markdown",
   "metadata": {}
  },
  {
   "cell_type": "code",
   "execution_count": 139,
   "metadata": {},
   "outputs": [],
   "source": [
    "import pandas as pd\n",
    "import numpy as np\n",
    "import seaborn as sns\n",
    "from sklearn.discriminant_analysis import LinearDiscriminantAnalysis\n",
    "from sklearn.model_selection import train_test_split\n",
    "from sklearn.metrics import accuracy_score"
   ]
  },
  {
   "cell_type": "code",
   "execution_count": 8,
   "metadata": {},
   "outputs": [],
   "source": [
    "df = pd.read_csv('HR.csv')"
   ]
  },
  {
   "cell_type": "code",
   "execution_count": 66,
   "metadata": {},
   "outputs": [
    {
     "output_type": "execute_result",
     "data": {
      "text/plain": [
       "       satisfaction_level  last_evaluation  number_project  \\\n",
       "0                    0.38             0.53               2   \n",
       "1                    0.80             0.86               5   \n",
       "2                    0.11             0.88               7   \n",
       "3                    0.72             0.87               5   \n",
       "4                    0.37             0.52               2   \n",
       "...                   ...              ...             ...   \n",
       "14994                0.40             0.57               2   \n",
       "14995                0.37             0.48               2   \n",
       "14996                0.37             0.53               2   \n",
       "14997                0.11             0.96               6   \n",
       "14998                0.37             0.52               2   \n",
       "\n",
       "       average_montly_hours  time_spend_company  Work_accident  left  \\\n",
       "0                       157                   3              0     1   \n",
       "1                       262                   6              0     1   \n",
       "2                       272                   4              0     1   \n",
       "3                       223                   5              0     1   \n",
       "4                       159                   3              0     1   \n",
       "...                     ...                 ...            ...   ...   \n",
       "14994                   151                   3              0     1   \n",
       "14995                   160                   3              0     1   \n",
       "14996                   143                   3              0     1   \n",
       "14997                   280                   4              0     1   \n",
       "14998                   158                   3              0     1   \n",
       "\n",
       "       promotion_last_5years department  salary  \n",
       "0                          0      sales     low  \n",
       "1                          0      sales  medium  \n",
       "2                          0      sales  medium  \n",
       "3                          0      sales     low  \n",
       "4                          0      sales     low  \n",
       "...                      ...        ...     ...  \n",
       "14994                      0    support     low  \n",
       "14995                      0    support     low  \n",
       "14996                      0    support     low  \n",
       "14997                      0    support     low  \n",
       "14998                      0    support     low  \n",
       "\n",
       "[14999 rows x 10 columns]"
      ],
      "text/html": "<div>\n<style scoped>\n    .dataframe tbody tr th:only-of-type {\n        vertical-align: middle;\n    }\n\n    .dataframe tbody tr th {\n        vertical-align: top;\n    }\n\n    .dataframe thead th {\n        text-align: right;\n    }\n</style>\n<table border=\"1\" class=\"dataframe\">\n  <thead>\n    <tr style=\"text-align: right;\">\n      <th></th>\n      <th>satisfaction_level</th>\n      <th>last_evaluation</th>\n      <th>number_project</th>\n      <th>average_montly_hours</th>\n      <th>time_spend_company</th>\n      <th>Work_accident</th>\n      <th>left</th>\n      <th>promotion_last_5years</th>\n      <th>department</th>\n      <th>salary</th>\n    </tr>\n  </thead>\n  <tbody>\n    <tr>\n      <th>0</th>\n      <td>0.38</td>\n      <td>0.53</td>\n      <td>2</td>\n      <td>157</td>\n      <td>3</td>\n      <td>0</td>\n      <td>1</td>\n      <td>0</td>\n      <td>sales</td>\n      <td>low</td>\n    </tr>\n    <tr>\n      <th>1</th>\n      <td>0.80</td>\n      <td>0.86</td>\n      <td>5</td>\n      <td>262</td>\n      <td>6</td>\n      <td>0</td>\n      <td>1</td>\n      <td>0</td>\n      <td>sales</td>\n      <td>medium</td>\n    </tr>\n    <tr>\n      <th>2</th>\n      <td>0.11</td>\n      <td>0.88</td>\n      <td>7</td>\n      <td>272</td>\n      <td>4</td>\n      <td>0</td>\n      <td>1</td>\n      <td>0</td>\n      <td>sales</td>\n      <td>medium</td>\n    </tr>\n    <tr>\n      <th>3</th>\n      <td>0.72</td>\n      <td>0.87</td>\n      <td>5</td>\n      <td>223</td>\n      <td>5</td>\n      <td>0</td>\n      <td>1</td>\n      <td>0</td>\n      <td>sales</td>\n      <td>low</td>\n    </tr>\n    <tr>\n      <th>4</th>\n      <td>0.37</td>\n      <td>0.52</td>\n      <td>2</td>\n      <td>159</td>\n      <td>3</td>\n      <td>0</td>\n      <td>1</td>\n      <td>0</td>\n      <td>sales</td>\n      <td>low</td>\n    </tr>\n    <tr>\n      <th>...</th>\n      <td>...</td>\n      <td>...</td>\n      <td>...</td>\n      <td>...</td>\n      <td>...</td>\n      <td>...</td>\n      <td>...</td>\n      <td>...</td>\n      <td>...</td>\n      <td>...</td>\n    </tr>\n    <tr>\n      <th>14994</th>\n      <td>0.40</td>\n      <td>0.57</td>\n      <td>2</td>\n      <td>151</td>\n      <td>3</td>\n      <td>0</td>\n      <td>1</td>\n      <td>0</td>\n      <td>support</td>\n      <td>low</td>\n    </tr>\n    <tr>\n      <th>14995</th>\n      <td>0.37</td>\n      <td>0.48</td>\n      <td>2</td>\n      <td>160</td>\n      <td>3</td>\n      <td>0</td>\n      <td>1</td>\n      <td>0</td>\n      <td>support</td>\n      <td>low</td>\n    </tr>\n    <tr>\n      <th>14996</th>\n      <td>0.37</td>\n      <td>0.53</td>\n      <td>2</td>\n      <td>143</td>\n      <td>3</td>\n      <td>0</td>\n      <td>1</td>\n      <td>0</td>\n      <td>support</td>\n      <td>low</td>\n    </tr>\n    <tr>\n      <th>14997</th>\n      <td>0.11</td>\n      <td>0.96</td>\n      <td>6</td>\n      <td>280</td>\n      <td>4</td>\n      <td>0</td>\n      <td>1</td>\n      <td>0</td>\n      <td>support</td>\n      <td>low</td>\n    </tr>\n    <tr>\n      <th>14998</th>\n      <td>0.37</td>\n      <td>0.52</td>\n      <td>2</td>\n      <td>158</td>\n      <td>3</td>\n      <td>0</td>\n      <td>1</td>\n      <td>0</td>\n      <td>support</td>\n      <td>low</td>\n    </tr>\n  </tbody>\n</table>\n<p>14999 rows × 10 columns</p>\n</div>"
     },
     "metadata": {},
     "execution_count": 66
    }
   ],
   "source": [
    "df"
   ]
  },
  {
   "source": [
    "Разделим для удобства датафрейм на два: первый будет содержать только количественные признаки, второй - категориальные"
   ],
   "cell_type": "markdown",
   "metadata": {}
  },
  {
   "cell_type": "code",
   "execution_count": 19,
   "metadata": {},
   "outputs": [],
   "source": [
    "df_quantitat = df[['satisfaction_level','last_evaluation','number_project','average_montly_hours','time_spend_company']]\n",
    "df_category = df[['Work_accident','left','promotion_last_5years','department','salary']]"
   ]
  },
  {
   "source": [
    "### Основные статистические метрики\n",
    "Метрики для числовых признаков - среднее арифметическое, стандартное отклонение, минимум, максимум, 50-й процентиль соответствует медиане"
   ],
   "cell_type": "markdown",
   "metadata": {}
  },
  {
   "cell_type": "code",
   "execution_count": 20,
   "metadata": {},
   "outputs": [
    {
     "output_type": "execute_result",
     "data": {
      "text/plain": [
       "       satisfaction_level  last_evaluation  number_project  \\\n",
       "count        14999.000000     14999.000000    14999.000000   \n",
       "mean             0.612834         0.716102        3.803054   \n",
       "std              0.248631         0.171169        1.232592   \n",
       "min              0.090000         0.360000        2.000000   \n",
       "25%              0.440000         0.560000        3.000000   \n",
       "50%              0.640000         0.720000        4.000000   \n",
       "75%              0.820000         0.870000        5.000000   \n",
       "max              1.000000         1.000000        7.000000   \n",
       "\n",
       "       average_montly_hours  time_spend_company  \n",
       "count          14999.000000        14999.000000  \n",
       "mean             201.050337            3.498233  \n",
       "std               49.943099            1.460136  \n",
       "min               96.000000            2.000000  \n",
       "25%              156.000000            3.000000  \n",
       "50%              200.000000            3.000000  \n",
       "75%              245.000000            4.000000  \n",
       "max              310.000000           10.000000  "
      ],
      "text/html": "<div>\n<style scoped>\n    .dataframe tbody tr th:only-of-type {\n        vertical-align: middle;\n    }\n\n    .dataframe tbody tr th {\n        vertical-align: top;\n    }\n\n    .dataframe thead th {\n        text-align: right;\n    }\n</style>\n<table border=\"1\" class=\"dataframe\">\n  <thead>\n    <tr style=\"text-align: right;\">\n      <th></th>\n      <th>satisfaction_level</th>\n      <th>last_evaluation</th>\n      <th>number_project</th>\n      <th>average_montly_hours</th>\n      <th>time_spend_company</th>\n    </tr>\n  </thead>\n  <tbody>\n    <tr>\n      <th>count</th>\n      <td>14999.000000</td>\n      <td>14999.000000</td>\n      <td>14999.000000</td>\n      <td>14999.000000</td>\n      <td>14999.000000</td>\n    </tr>\n    <tr>\n      <th>mean</th>\n      <td>0.612834</td>\n      <td>0.716102</td>\n      <td>3.803054</td>\n      <td>201.050337</td>\n      <td>3.498233</td>\n    </tr>\n    <tr>\n      <th>std</th>\n      <td>0.248631</td>\n      <td>0.171169</td>\n      <td>1.232592</td>\n      <td>49.943099</td>\n      <td>1.460136</td>\n    </tr>\n    <tr>\n      <th>min</th>\n      <td>0.090000</td>\n      <td>0.360000</td>\n      <td>2.000000</td>\n      <td>96.000000</td>\n      <td>2.000000</td>\n    </tr>\n    <tr>\n      <th>25%</th>\n      <td>0.440000</td>\n      <td>0.560000</td>\n      <td>3.000000</td>\n      <td>156.000000</td>\n      <td>3.000000</td>\n    </tr>\n    <tr>\n      <th>50%</th>\n      <td>0.640000</td>\n      <td>0.720000</td>\n      <td>4.000000</td>\n      <td>200.000000</td>\n      <td>3.000000</td>\n    </tr>\n    <tr>\n      <th>75%</th>\n      <td>0.820000</td>\n      <td>0.870000</td>\n      <td>5.000000</td>\n      <td>245.000000</td>\n      <td>4.000000</td>\n    </tr>\n    <tr>\n      <th>max</th>\n      <td>1.000000</td>\n      <td>1.000000</td>\n      <td>7.000000</td>\n      <td>310.000000</td>\n      <td>10.000000</td>\n    </tr>\n  </tbody>\n</table>\n</div>"
     },
     "metadata": {},
     "execution_count": 20
    }
   ],
   "source": [
    "df_quantitat.describe()"
   ]
  },
  {
   "source": [
    "Для категориальных признаков показательна мода\n"
   ],
   "cell_type": "markdown",
   "metadata": {}
  },
  {
   "cell_type": "code",
   "execution_count": 29,
   "metadata": {},
   "outputs": [
    {
     "output_type": "execute_result",
     "data": {
      "text/plain": [
       "               Attribute   Mode\n",
       "0          Work_accident      0\n",
       "0                   left      0\n",
       "0  promotion_last_5years      0\n",
       "0             department  sales\n",
       "0                 salary    low"
      ],
      "text/html": "<div>\n<style scoped>\n    .dataframe tbody tr th:only-of-type {\n        vertical-align: middle;\n    }\n\n    .dataframe tbody tr th {\n        vertical-align: top;\n    }\n\n    .dataframe thead th {\n        text-align: right;\n    }\n</style>\n<table border=\"1\" class=\"dataframe\">\n  <thead>\n    <tr style=\"text-align: right;\">\n      <th></th>\n      <th>Attribute</th>\n      <th>Mode</th>\n    </tr>\n  </thead>\n  <tbody>\n    <tr>\n      <th>0</th>\n      <td>Work_accident</td>\n      <td>0</td>\n    </tr>\n    <tr>\n      <th>0</th>\n      <td>left</td>\n      <td>0</td>\n    </tr>\n    <tr>\n      <th>0</th>\n      <td>promotion_last_5years</td>\n      <td>0</td>\n    </tr>\n    <tr>\n      <th>0</th>\n      <td>department</td>\n      <td>sales</td>\n    </tr>\n    <tr>\n      <th>0</th>\n      <td>salary</td>\n      <td>low</td>\n    </tr>\n  </tbody>\n</table>\n</div>"
     },
     "metadata": {},
     "execution_count": 29
    }
   ],
   "source": [
    "df_mode = pd.DataFrame()\n",
    "for col in df_category.columns:\n",
    "    new_row = {'Attribute': col, 'Mode': df_category[col].mode()[0]}\n",
    "    df_mode = pd.concat([df_mode, pd.DataFrame([new_row])])\n",
    "\n",
    "df_mode"
   ]
  },
  {
   "source": [
    "### Корреляционная матрица и ее визуализация"
   ],
   "cell_type": "markdown",
   "metadata": {}
  },
  {
   "cell_type": "code",
   "execution_count": 64,
   "metadata": {},
   "outputs": [
    {
     "output_type": "execute_result",
     "data": {
      "text/plain": [
       "                      satisfaction_level  last_evaluation  number_project  \\\n",
       "satisfaction_level              1.000000         0.105021       -0.142970   \n",
       "last_evaluation                 0.105021         1.000000        0.349333   \n",
       "number_project                 -0.142970         0.349333        1.000000   \n",
       "average_montly_hours           -0.020048         0.339742        0.417211   \n",
       "time_spend_company             -0.100866         0.131591        0.196786   \n",
       "\n",
       "                      average_montly_hours  time_spend_company  \n",
       "satisfaction_level               -0.020048           -0.100866  \n",
       "last_evaluation                   0.339742            0.131591  \n",
       "number_project                    0.417211            0.196786  \n",
       "average_montly_hours              1.000000            0.127755  \n",
       "time_spend_company                0.127755            1.000000  "
      ],
      "text/html": "<div>\n<style scoped>\n    .dataframe tbody tr th:only-of-type {\n        vertical-align: middle;\n    }\n\n    .dataframe tbody tr th {\n        vertical-align: top;\n    }\n\n    .dataframe thead th {\n        text-align: right;\n    }\n</style>\n<table border=\"1\" class=\"dataframe\">\n  <thead>\n    <tr style=\"text-align: right;\">\n      <th></th>\n      <th>satisfaction_level</th>\n      <th>last_evaluation</th>\n      <th>number_project</th>\n      <th>average_montly_hours</th>\n      <th>time_spend_company</th>\n    </tr>\n  </thead>\n  <tbody>\n    <tr>\n      <th>satisfaction_level</th>\n      <td>1.000000</td>\n      <td>0.105021</td>\n      <td>-0.142970</td>\n      <td>-0.020048</td>\n      <td>-0.100866</td>\n    </tr>\n    <tr>\n      <th>last_evaluation</th>\n      <td>0.105021</td>\n      <td>1.000000</td>\n      <td>0.349333</td>\n      <td>0.339742</td>\n      <td>0.131591</td>\n    </tr>\n    <tr>\n      <th>number_project</th>\n      <td>-0.142970</td>\n      <td>0.349333</td>\n      <td>1.000000</td>\n      <td>0.417211</td>\n      <td>0.196786</td>\n    </tr>\n    <tr>\n      <th>average_montly_hours</th>\n      <td>-0.020048</td>\n      <td>0.339742</td>\n      <td>0.417211</td>\n      <td>1.000000</td>\n      <td>0.127755</td>\n    </tr>\n    <tr>\n      <th>time_spend_company</th>\n      <td>-0.100866</td>\n      <td>0.131591</td>\n      <td>0.196786</td>\n      <td>0.127755</td>\n      <td>1.000000</td>\n    </tr>\n  </tbody>\n</table>\n</div>"
     },
     "metadata": {},
     "execution_count": 64
    }
   ],
   "source": [
    "df_quantitat.corr()"
   ]
  },
  {
   "cell_type": "code",
   "execution_count": 38,
   "metadata": {},
   "outputs": [
    {
     "output_type": "execute_result",
     "data": {
      "text/plain": [
       "<AxesSubplot:>"
      ]
     },
     "metadata": {},
     "execution_count": 38
    },
    {
     "output_type": "display_data",
     "data": {
      "text/plain": "<Figure size 432x288 with 2 Axes>",
      "image/svg+xml": "<?xml version=\"1.0\" encoding=\"utf-8\" standalone=\"no\"?>\r\n<!DOCTYPE svg PUBLIC \"-//W3C//DTD SVG 1.1//EN\"\r\n  \"http://www.w3.org/Graphics/SVG/1.1/DTD/svg11.dtd\">\r\n<!-- Created with matplotlib (https://matplotlib.org/) -->\r\n<svg height=\"356.507969pt\" version=\"1.1\" viewBox=\"0 0 453.623875 356.507969\" width=\"453.623875pt\" xmlns=\"http://www.w3.org/2000/svg\" xmlns:xlink=\"http://www.w3.org/1999/xlink\">\r\n <metadata>\r\n  <rdf:RDF xmlns:cc=\"http://creativecommons.org/ns#\" xmlns:dc=\"http://purl.org/dc/elements/1.1/\" xmlns:rdf=\"http://www.w3.org/1999/02/22-rdf-syntax-ns#\">\r\n   <cc:Work>\r\n    <dc:type rdf:resource=\"http://purl.org/dc/dcmitype/StillImage\"/>\r\n    <dc:date>2021-05-02T18:15:37.548901</dc:date>\r\n    <dc:format>image/svg+xml</dc:format>\r\n    <dc:creator>\r\n     <cc:Agent>\r\n      <dc:title>Matplotlib v3.3.2, https://matplotlib.org/</dc:title>\r\n     </cc:Agent>\r\n    </dc:creator>\r\n   </cc:Work>\r\n  </rdf:RDF>\r\n </metadata>\r\n <defs>\r\n  <style type=\"text/css\">*{stroke-linecap:butt;stroke-linejoin:round;}</style>\r\n </defs>\r\n <g id=\"figure_1\">\r\n  <g id=\"patch_1\">\r\n   <path d=\"M 0 356.507969 \r\nL 453.623875 356.507969 \r\nL 453.623875 0 \r\nL 0 0 \r\nz\r\n\" style=\"fill:none;\"/>\r\n  </g>\r\n  <g id=\"axes_1\">\r\n   <g id=\"patch_2\">\r\n    <path d=\"M 128.06875 228.439219 \r\nL 395.90875 228.439219 \r\nL 395.90875 10.999219 \r\nL 128.06875 10.999219 \r\nz\r\n\" style=\"fill:#ffffff;\"/>\r\n   </g>\r\n   <g id=\"QuadMesh_1\">\r\n    <path clip-path=\"url(#p9a9f0a5218)\" d=\"M 128.06875 10.999219 \r\nL 181.63675 10.999219 \r\nL 181.63675 54.487219 \r\nL 128.06875 54.487219 \r\nL 128.06875 10.999219 \r\n\" style=\"fill:#faebdd;\"/>\r\n    <path clip-path=\"url(#p9a9f0a5218)\" d=\"M 181.63675 10.999219 \r\nL 235.20475 10.999219 \r\nL 235.20475 54.487219 \r\nL 181.63675 54.487219 \r\nL 181.63675 10.999219 \r\n\" style=\"fill:#531e4d;\"/>\r\n    <path clip-path=\"url(#p9a9f0a5218)\" d=\"M 235.20475 10.999219 \r\nL 288.77275 10.999219 \r\nL 288.77275 54.487219 \r\nL 235.20475 54.487219 \r\nL 235.20475 10.999219 \r\n\" style=\"fill:#03051a;\"/>\r\n    <path clip-path=\"url(#p9a9f0a5218)\" d=\"M 288.77275 10.999219 \r\nL 342.34075 10.999219 \r\nL 342.34075 54.487219 \r\nL 288.77275 54.487219 \r\nL 288.77275 10.999219 \r\n\" style=\"fill:#281535;\"/>\r\n    <path clip-path=\"url(#p9a9f0a5218)\" d=\"M 342.34075 10.999219 \r\nL 395.90875 10.999219 \r\nL 395.90875 54.487219 \r\nL 342.34075 54.487219 \r\nL 342.34075 10.999219 \r\n\" style=\"fill:#0e0b22;\"/>\r\n    <path clip-path=\"url(#p9a9f0a5218)\" d=\"M 128.06875 54.487219 \r\nL 181.63675 54.487219 \r\nL 181.63675 97.975219 \r\nL 128.06875 97.975219 \r\nL 128.06875 54.487219 \r\n\" style=\"fill:#531e4d;\"/>\r\n    <path clip-path=\"url(#p9a9f0a5218)\" d=\"M 181.63675 54.487219 \r\nL 235.20475 54.487219 \r\nL 235.20475 97.975219 \r\nL 181.63675 97.975219 \r\nL 181.63675 54.487219 \r\n\" style=\"fill:#faebdd;\"/>\r\n    <path clip-path=\"url(#p9a9f0a5218)\" d=\"M 235.20475 54.487219 \r\nL 288.77275 54.487219 \r\nL 288.77275 97.975219 \r\nL 235.20475 97.975219 \r\nL 235.20475 54.487219 \r\n\" style=\"fill:#af1759;\"/>\r\n    <path clip-path=\"url(#p9a9f0a5218)\" d=\"M 288.77275 54.487219 \r\nL 342.34075 54.487219 \r\nL 342.34075 97.975219 \r\nL 288.77275 97.975219 \r\nL 288.77275 54.487219 \r\n\" style=\"fill:#ab185a;\"/>\r\n    <path clip-path=\"url(#p9a9f0a5218)\" d=\"M 342.34075 54.487219 \r\nL 395.90875 54.487219 \r\nL 395.90875 97.975219 \r\nL 342.34075 97.975219 \r\nL 342.34075 54.487219 \r\n\" style=\"fill:#5c1e51;\"/>\r\n    <path clip-path=\"url(#p9a9f0a5218)\" d=\"M 128.06875 97.975219 \r\nL 181.63675 97.975219 \r\nL 181.63675 141.463219 \r\nL 128.06875 141.463219 \r\nL 128.06875 97.975219 \r\n\" style=\"fill:#03051a;\"/>\r\n    <path clip-path=\"url(#p9a9f0a5218)\" d=\"M 181.63675 97.975219 \r\nL 235.20475 97.975219 \r\nL 235.20475 141.463219 \r\nL 181.63675 141.463219 \r\nL 181.63675 97.975219 \r\n\" style=\"fill:#af1759;\"/>\r\n    <path clip-path=\"url(#p9a9f0a5218)\" d=\"M 235.20475 97.975219 \r\nL 288.77275 97.975219 \r\nL 288.77275 141.463219 \r\nL 235.20475 141.463219 \r\nL 235.20475 97.975219 \r\n\" style=\"fill:#faebdd;\"/>\r\n    <path clip-path=\"url(#p9a9f0a5218)\" d=\"M 288.77275 97.975219 \r\nL 342.34075 97.975219 \r\nL 342.34075 141.463219 \r\nL 288.77275 141.463219 \r\nL 288.77275 97.975219 \r\n\" style=\"fill:#c71951;\"/>\r\n    <path clip-path=\"url(#p9a9f0a5218)\" d=\"M 342.34075 97.975219 \r\nL 395.90875 97.975219 \r\nL 395.90875 141.463219 \r\nL 342.34075 141.463219 \r\nL 342.34075 97.975219 \r\n\" style=\"fill:#751f58;\"/>\r\n    <path clip-path=\"url(#p9a9f0a5218)\" d=\"M 128.06875 141.463219 \r\nL 181.63675 141.463219 \r\nL 181.63675 184.951219 \r\nL 128.06875 184.951219 \r\nL 128.06875 141.463219 \r\n\" style=\"fill:#281535;\"/>\r\n    <path clip-path=\"url(#p9a9f0a5218)\" d=\"M 181.63675 141.463219 \r\nL 235.20475 141.463219 \r\nL 235.20475 184.951219 \r\nL 181.63675 184.951219 \r\nL 181.63675 141.463219 \r\n\" style=\"fill:#ab185a;\"/>\r\n    <path clip-path=\"url(#p9a9f0a5218)\" d=\"M 235.20475 141.463219 \r\nL 288.77275 141.463219 \r\nL 288.77275 184.951219 \r\nL 235.20475 184.951219 \r\nL 235.20475 141.463219 \r\n\" style=\"fill:#c71951;\"/>\r\n    <path clip-path=\"url(#p9a9f0a5218)\" d=\"M 288.77275 141.463219 \r\nL 342.34075 141.463219 \r\nL 342.34075 184.951219 \r\nL 288.77275 184.951219 \r\nL 288.77275 141.463219 \r\n\" style=\"fill:#faebdd;\"/>\r\n    <path clip-path=\"url(#p9a9f0a5218)\" d=\"M 342.34075 141.463219 \r\nL 395.90875 141.463219 \r\nL 395.90875 184.951219 \r\nL 342.34075 184.951219 \r\nL 342.34075 141.463219 \r\n\" style=\"fill:#5b1e51;\"/>\r\n    <path clip-path=\"url(#p9a9f0a5218)\" d=\"M 128.06875 184.951219 \r\nL 181.63675 184.951219 \r\nL 181.63675 228.439219 \r\nL 128.06875 228.439219 \r\nL 128.06875 184.951219 \r\n\" style=\"fill:#0e0b22;\"/>\r\n    <path clip-path=\"url(#p9a9f0a5218)\" d=\"M 181.63675 184.951219 \r\nL 235.20475 184.951219 \r\nL 235.20475 228.439219 \r\nL 181.63675 228.439219 \r\nL 181.63675 184.951219 \r\n\" style=\"fill:#5c1e51;\"/>\r\n    <path clip-path=\"url(#p9a9f0a5218)\" d=\"M 235.20475 184.951219 \r\nL 288.77275 184.951219 \r\nL 288.77275 228.439219 \r\nL 235.20475 228.439219 \r\nL 235.20475 184.951219 \r\n\" style=\"fill:#751f58;\"/>\r\n    <path clip-path=\"url(#p9a9f0a5218)\" d=\"M 288.77275 184.951219 \r\nL 342.34075 184.951219 \r\nL 342.34075 228.439219 \r\nL 288.77275 228.439219 \r\nL 288.77275 184.951219 \r\n\" style=\"fill:#5b1e51;\"/>\r\n    <path clip-path=\"url(#p9a9f0a5218)\" d=\"M 342.34075 184.951219 \r\nL 395.90875 184.951219 \r\nL 395.90875 228.439219 \r\nL 342.34075 228.439219 \r\nL 342.34075 184.951219 \r\n\" style=\"fill:#faebdd;\"/>\r\n   </g>\r\n   <g id=\"matplotlib.axis_1\">\r\n    <g id=\"xtick_1\">\r\n     <g id=\"line2d_1\">\r\n      <defs>\r\n       <path d=\"M 0 0 \r\nL 0 3.5 \r\n\" id=\"me31ed2d00b\" style=\"stroke:#000000;stroke-width:0.8;\"/>\r\n      </defs>\r\n      <g>\r\n       <use style=\"stroke:#000000;stroke-width:0.8;\" x=\"154.85275\" xlink:href=\"#me31ed2d00b\" y=\"228.439219\"/>\r\n      </g>\r\n     </g>\r\n     <g id=\"text_1\">\r\n      <!-- satisfaction_level -->\r\n      <g transform=\"translate(157.473063 321.767344)rotate(-90)scale(0.1 -0.1)\">\r\n       <defs>\r\n        <path d=\"M 44.28125 53.078125 \r\nL 44.28125 44.578125 \r\nQ 40.484375 46.53125 36.375 47.5 \r\nQ 32.28125 48.484375 27.875 48.484375 \r\nQ 21.1875 48.484375 17.84375 46.4375 \r\nQ 14.5 44.390625 14.5 40.28125 \r\nQ 14.5 37.15625 16.890625 35.375 \r\nQ 19.28125 33.59375 26.515625 31.984375 \r\nL 29.59375 31.296875 \r\nQ 39.15625 29.25 43.1875 25.515625 \r\nQ 47.21875 21.78125 47.21875 15.09375 \r\nQ 47.21875 7.46875 41.1875 3.015625 \r\nQ 35.15625 -1.421875 24.609375 -1.421875 \r\nQ 20.21875 -1.421875 15.453125 -0.5625 \r\nQ 10.6875 0.296875 5.421875 2 \r\nL 5.421875 11.28125 \r\nQ 10.40625 8.6875 15.234375 7.390625 \r\nQ 20.0625 6.109375 24.8125 6.109375 \r\nQ 31.15625 6.109375 34.5625 8.28125 \r\nQ 37.984375 10.453125 37.984375 14.40625 \r\nQ 37.984375 18.0625 35.515625 20.015625 \r\nQ 33.0625 21.96875 24.703125 23.78125 \r\nL 21.578125 24.515625 \r\nQ 13.234375 26.265625 9.515625 29.90625 \r\nQ 5.8125 33.546875 5.8125 39.890625 \r\nQ 5.8125 47.609375 11.28125 51.796875 \r\nQ 16.75 56 26.8125 56 \r\nQ 31.78125 56 36.171875 55.265625 \r\nQ 40.578125 54.546875 44.28125 53.078125 \r\nz\r\n\" id=\"DejaVuSans-115\"/>\r\n        <path d=\"M 34.28125 27.484375 \r\nQ 23.390625 27.484375 19.1875 25 \r\nQ 14.984375 22.515625 14.984375 16.5 \r\nQ 14.984375 11.71875 18.140625 8.90625 \r\nQ 21.296875 6.109375 26.703125 6.109375 \r\nQ 34.1875 6.109375 38.703125 11.40625 \r\nQ 43.21875 16.703125 43.21875 25.484375 \r\nL 43.21875 27.484375 \r\nz\r\nM 52.203125 31.203125 \r\nL 52.203125 0 \r\nL 43.21875 0 \r\nL 43.21875 8.296875 \r\nQ 40.140625 3.328125 35.546875 0.953125 \r\nQ 30.953125 -1.421875 24.3125 -1.421875 \r\nQ 15.921875 -1.421875 10.953125 3.296875 \r\nQ 6 8.015625 6 15.921875 \r\nQ 6 25.140625 12.171875 29.828125 \r\nQ 18.359375 34.515625 30.609375 34.515625 \r\nL 43.21875 34.515625 \r\nL 43.21875 35.40625 \r\nQ 43.21875 41.609375 39.140625 45 \r\nQ 35.0625 48.390625 27.6875 48.390625 \r\nQ 23 48.390625 18.546875 47.265625 \r\nQ 14.109375 46.140625 10.015625 43.890625 \r\nL 10.015625 52.203125 \r\nQ 14.9375 54.109375 19.578125 55.046875 \r\nQ 24.21875 56 28.609375 56 \r\nQ 40.484375 56 46.34375 49.84375 \r\nQ 52.203125 43.703125 52.203125 31.203125 \r\nz\r\n\" id=\"DejaVuSans-97\"/>\r\n        <path d=\"M 18.3125 70.21875 \r\nL 18.3125 54.6875 \r\nL 36.8125 54.6875 \r\nL 36.8125 47.703125 \r\nL 18.3125 47.703125 \r\nL 18.3125 18.015625 \r\nQ 18.3125 11.328125 20.140625 9.421875 \r\nQ 21.96875 7.515625 27.59375 7.515625 \r\nL 36.8125 7.515625 \r\nL 36.8125 0 \r\nL 27.59375 0 \r\nQ 17.1875 0 13.234375 3.875 \r\nQ 9.28125 7.765625 9.28125 18.015625 \r\nL 9.28125 47.703125 \r\nL 2.6875 47.703125 \r\nL 2.6875 54.6875 \r\nL 9.28125 54.6875 \r\nL 9.28125 70.21875 \r\nz\r\n\" id=\"DejaVuSans-116\"/>\r\n        <path d=\"M 9.421875 54.6875 \r\nL 18.40625 54.6875 \r\nL 18.40625 0 \r\nL 9.421875 0 \r\nz\r\nM 9.421875 75.984375 \r\nL 18.40625 75.984375 \r\nL 18.40625 64.59375 \r\nL 9.421875 64.59375 \r\nz\r\n\" id=\"DejaVuSans-105\"/>\r\n        <path d=\"M 37.109375 75.984375 \r\nL 37.109375 68.5 \r\nL 28.515625 68.5 \r\nQ 23.6875 68.5 21.796875 66.546875 \r\nQ 19.921875 64.59375 19.921875 59.515625 \r\nL 19.921875 54.6875 \r\nL 34.71875 54.6875 \r\nL 34.71875 47.703125 \r\nL 19.921875 47.703125 \r\nL 19.921875 0 \r\nL 10.890625 0 \r\nL 10.890625 47.703125 \r\nL 2.296875 47.703125 \r\nL 2.296875 54.6875 \r\nL 10.890625 54.6875 \r\nL 10.890625 58.5 \r\nQ 10.890625 67.625 15.140625 71.796875 \r\nQ 19.390625 75.984375 28.609375 75.984375 \r\nz\r\n\" id=\"DejaVuSans-102\"/>\r\n        <path d=\"M 48.78125 52.59375 \r\nL 48.78125 44.1875 \r\nQ 44.96875 46.296875 41.140625 47.34375 \r\nQ 37.3125 48.390625 33.40625 48.390625 \r\nQ 24.65625 48.390625 19.8125 42.84375 \r\nQ 14.984375 37.3125 14.984375 27.296875 \r\nQ 14.984375 17.28125 19.8125 11.734375 \r\nQ 24.65625 6.203125 33.40625 6.203125 \r\nQ 37.3125 6.203125 41.140625 7.25 \r\nQ 44.96875 8.296875 48.78125 10.40625 \r\nL 48.78125 2.09375 \r\nQ 45.015625 0.34375 40.984375 -0.53125 \r\nQ 36.96875 -1.421875 32.421875 -1.421875 \r\nQ 20.0625 -1.421875 12.78125 6.34375 \r\nQ 5.515625 14.109375 5.515625 27.296875 \r\nQ 5.515625 40.671875 12.859375 48.328125 \r\nQ 20.21875 56 33.015625 56 \r\nQ 37.15625 56 41.109375 55.140625 \r\nQ 45.0625 54.296875 48.78125 52.59375 \r\nz\r\n\" id=\"DejaVuSans-99\"/>\r\n        <path d=\"M 30.609375 48.390625 \r\nQ 23.390625 48.390625 19.1875 42.75 \r\nQ 14.984375 37.109375 14.984375 27.296875 \r\nQ 14.984375 17.484375 19.15625 11.84375 \r\nQ 23.34375 6.203125 30.609375 6.203125 \r\nQ 37.796875 6.203125 41.984375 11.859375 \r\nQ 46.1875 17.53125 46.1875 27.296875 \r\nQ 46.1875 37.015625 41.984375 42.703125 \r\nQ 37.796875 48.390625 30.609375 48.390625 \r\nz\r\nM 30.609375 56 \r\nQ 42.328125 56 49.015625 48.375 \r\nQ 55.71875 40.765625 55.71875 27.296875 \r\nQ 55.71875 13.875 49.015625 6.21875 \r\nQ 42.328125 -1.421875 30.609375 -1.421875 \r\nQ 18.84375 -1.421875 12.171875 6.21875 \r\nQ 5.515625 13.875 5.515625 27.296875 \r\nQ 5.515625 40.765625 12.171875 48.375 \r\nQ 18.84375 56 30.609375 56 \r\nz\r\n\" id=\"DejaVuSans-111\"/>\r\n        <path d=\"M 54.890625 33.015625 \r\nL 54.890625 0 \r\nL 45.90625 0 \r\nL 45.90625 32.71875 \r\nQ 45.90625 40.484375 42.875 44.328125 \r\nQ 39.84375 48.1875 33.796875 48.1875 \r\nQ 26.515625 48.1875 22.3125 43.546875 \r\nQ 18.109375 38.921875 18.109375 30.90625 \r\nL 18.109375 0 \r\nL 9.078125 0 \r\nL 9.078125 54.6875 \r\nL 18.109375 54.6875 \r\nL 18.109375 46.1875 \r\nQ 21.34375 51.125 25.703125 53.5625 \r\nQ 30.078125 56 35.796875 56 \r\nQ 45.21875 56 50.046875 50.171875 \r\nQ 54.890625 44.34375 54.890625 33.015625 \r\nz\r\n\" id=\"DejaVuSans-110\"/>\r\n        <path d=\"M 50.984375 -16.609375 \r\nL 50.984375 -23.578125 \r\nL -0.984375 -23.578125 \r\nL -0.984375 -16.609375 \r\nz\r\n\" id=\"DejaVuSans-95\"/>\r\n        <path d=\"M 9.421875 75.984375 \r\nL 18.40625 75.984375 \r\nL 18.40625 0 \r\nL 9.421875 0 \r\nz\r\n\" id=\"DejaVuSans-108\"/>\r\n        <path d=\"M 56.203125 29.59375 \r\nL 56.203125 25.203125 \r\nL 14.890625 25.203125 \r\nQ 15.484375 15.921875 20.484375 11.0625 \r\nQ 25.484375 6.203125 34.421875 6.203125 \r\nQ 39.59375 6.203125 44.453125 7.46875 \r\nQ 49.3125 8.734375 54.109375 11.28125 \r\nL 54.109375 2.78125 \r\nQ 49.265625 0.734375 44.1875 -0.34375 \r\nQ 39.109375 -1.421875 33.890625 -1.421875 \r\nQ 20.796875 -1.421875 13.15625 6.1875 \r\nQ 5.515625 13.8125 5.515625 26.8125 \r\nQ 5.515625 40.234375 12.765625 48.109375 \r\nQ 20.015625 56 32.328125 56 \r\nQ 43.359375 56 49.78125 48.890625 \r\nQ 56.203125 41.796875 56.203125 29.59375 \r\nz\r\nM 47.21875 32.234375 \r\nQ 47.125 39.59375 43.09375 43.984375 \r\nQ 39.0625 48.390625 32.421875 48.390625 \r\nQ 24.90625 48.390625 20.390625 44.140625 \r\nQ 15.875 39.890625 15.1875 32.171875 \r\nz\r\n\" id=\"DejaVuSans-101\"/>\r\n        <path d=\"M 2.984375 54.6875 \r\nL 12.5 54.6875 \r\nL 29.59375 8.796875 \r\nL 46.6875 54.6875 \r\nL 56.203125 54.6875 \r\nL 35.6875 0 \r\nL 23.484375 0 \r\nz\r\n\" id=\"DejaVuSans-118\"/>\r\n       </defs>\r\n       <use xlink:href=\"#DejaVuSans-115\"/>\r\n       <use x=\"52.099609\" xlink:href=\"#DejaVuSans-97\"/>\r\n       <use x=\"113.378906\" xlink:href=\"#DejaVuSans-116\"/>\r\n       <use x=\"152.587891\" xlink:href=\"#DejaVuSans-105\"/>\r\n       <use x=\"180.371094\" xlink:href=\"#DejaVuSans-115\"/>\r\n       <use x=\"232.470703\" xlink:href=\"#DejaVuSans-102\"/>\r\n       <use x=\"267.675781\" xlink:href=\"#DejaVuSans-97\"/>\r\n       <use x=\"328.955078\" xlink:href=\"#DejaVuSans-99\"/>\r\n       <use x=\"383.935547\" xlink:href=\"#DejaVuSans-116\"/>\r\n       <use x=\"423.144531\" xlink:href=\"#DejaVuSans-105\"/>\r\n       <use x=\"450.927734\" xlink:href=\"#DejaVuSans-111\"/>\r\n       <use x=\"512.109375\" xlink:href=\"#DejaVuSans-110\"/>\r\n       <use x=\"575.488281\" xlink:href=\"#DejaVuSans-95\"/>\r\n       <use x=\"625.488281\" xlink:href=\"#DejaVuSans-108\"/>\r\n       <use x=\"653.271484\" xlink:href=\"#DejaVuSans-101\"/>\r\n       <use x=\"714.794922\" xlink:href=\"#DejaVuSans-118\"/>\r\n       <use x=\"773.974609\" xlink:href=\"#DejaVuSans-101\"/>\r\n       <use x=\"835.498047\" xlink:href=\"#DejaVuSans-108\"/>\r\n      </g>\r\n     </g>\r\n    </g>\r\n    <g id=\"xtick_2\">\r\n     <g id=\"line2d_2\">\r\n      <g>\r\n       <use style=\"stroke:#000000;stroke-width:0.8;\" x=\"208.42075\" xlink:href=\"#me31ed2d00b\" y=\"228.439219\"/>\r\n      </g>\r\n     </g>\r\n     <g id=\"text_2\">\r\n      <!-- last_evaluation -->\r\n      <g transform=\"translate(211.041063 311.073594)rotate(-90)scale(0.1 -0.1)\">\r\n       <defs>\r\n        <path d=\"M 8.5 21.578125 \r\nL 8.5 54.6875 \r\nL 17.484375 54.6875 \r\nL 17.484375 21.921875 \r\nQ 17.484375 14.15625 20.5 10.265625 \r\nQ 23.53125 6.390625 29.59375 6.390625 \r\nQ 36.859375 6.390625 41.078125 11.03125 \r\nQ 45.3125 15.671875 45.3125 23.6875 \r\nL 45.3125 54.6875 \r\nL 54.296875 54.6875 \r\nL 54.296875 0 \r\nL 45.3125 0 \r\nL 45.3125 8.40625 \r\nQ 42.046875 3.421875 37.71875 1 \r\nQ 33.40625 -1.421875 27.6875 -1.421875 \r\nQ 18.265625 -1.421875 13.375 4.4375 \r\nQ 8.5 10.296875 8.5 21.578125 \r\nz\r\nM 31.109375 56 \r\nz\r\n\" id=\"DejaVuSans-117\"/>\r\n       </defs>\r\n       <use xlink:href=\"#DejaVuSans-108\"/>\r\n       <use x=\"27.783203\" xlink:href=\"#DejaVuSans-97\"/>\r\n       <use x=\"89.0625\" xlink:href=\"#DejaVuSans-115\"/>\r\n       <use x=\"141.162109\" xlink:href=\"#DejaVuSans-116\"/>\r\n       <use x=\"180.371094\" xlink:href=\"#DejaVuSans-95\"/>\r\n       <use x=\"230.371094\" xlink:href=\"#DejaVuSans-101\"/>\r\n       <use x=\"291.894531\" xlink:href=\"#DejaVuSans-118\"/>\r\n       <use x=\"351.074219\" xlink:href=\"#DejaVuSans-97\"/>\r\n       <use x=\"412.353516\" xlink:href=\"#DejaVuSans-108\"/>\r\n       <use x=\"440.136719\" xlink:href=\"#DejaVuSans-117\"/>\r\n       <use x=\"503.515625\" xlink:href=\"#DejaVuSans-97\"/>\r\n       <use x=\"564.794922\" xlink:href=\"#DejaVuSans-116\"/>\r\n       <use x=\"604.003906\" xlink:href=\"#DejaVuSans-105\"/>\r\n       <use x=\"631.787109\" xlink:href=\"#DejaVuSans-111\"/>\r\n       <use x=\"692.96875\" xlink:href=\"#DejaVuSans-110\"/>\r\n      </g>\r\n     </g>\r\n    </g>\r\n    <g id=\"xtick_3\">\r\n     <g id=\"line2d_3\">\r\n      <g>\r\n       <use style=\"stroke:#000000;stroke-width:0.8;\" x=\"261.98875\" xlink:href=\"#me31ed2d00b\" y=\"228.439219\"/>\r\n      </g>\r\n     </g>\r\n     <g id=\"text_3\">\r\n      <!-- number_project -->\r\n      <g transform=\"translate(264.609062 314.170469)rotate(-90)scale(0.1 -0.1)\">\r\n       <defs>\r\n        <path d=\"M 52 44.1875 \r\nQ 55.375 50.25 60.0625 53.125 \r\nQ 64.75 56 71.09375 56 \r\nQ 79.640625 56 84.28125 50.015625 \r\nQ 88.921875 44.046875 88.921875 33.015625 \r\nL 88.921875 0 \r\nL 79.890625 0 \r\nL 79.890625 32.71875 \r\nQ 79.890625 40.578125 77.09375 44.375 \r\nQ 74.3125 48.1875 68.609375 48.1875 \r\nQ 61.625 48.1875 57.5625 43.546875 \r\nQ 53.515625 38.921875 53.515625 30.90625 \r\nL 53.515625 0 \r\nL 44.484375 0 \r\nL 44.484375 32.71875 \r\nQ 44.484375 40.625 41.703125 44.40625 \r\nQ 38.921875 48.1875 33.109375 48.1875 \r\nQ 26.21875 48.1875 22.15625 43.53125 \r\nQ 18.109375 38.875 18.109375 30.90625 \r\nL 18.109375 0 \r\nL 9.078125 0 \r\nL 9.078125 54.6875 \r\nL 18.109375 54.6875 \r\nL 18.109375 46.1875 \r\nQ 21.1875 51.21875 25.484375 53.609375 \r\nQ 29.78125 56 35.6875 56 \r\nQ 41.65625 56 45.828125 52.96875 \r\nQ 50 49.953125 52 44.1875 \r\nz\r\n\" id=\"DejaVuSans-109\"/>\r\n        <path d=\"M 48.6875 27.296875 \r\nQ 48.6875 37.203125 44.609375 42.84375 \r\nQ 40.53125 48.484375 33.40625 48.484375 \r\nQ 26.265625 48.484375 22.1875 42.84375 \r\nQ 18.109375 37.203125 18.109375 27.296875 \r\nQ 18.109375 17.390625 22.1875 11.75 \r\nQ 26.265625 6.109375 33.40625 6.109375 \r\nQ 40.53125 6.109375 44.609375 11.75 \r\nQ 48.6875 17.390625 48.6875 27.296875 \r\nz\r\nM 18.109375 46.390625 \r\nQ 20.953125 51.265625 25.265625 53.625 \r\nQ 29.59375 56 35.59375 56 \r\nQ 45.5625 56 51.78125 48.09375 \r\nQ 58.015625 40.1875 58.015625 27.296875 \r\nQ 58.015625 14.40625 51.78125 6.484375 \r\nQ 45.5625 -1.421875 35.59375 -1.421875 \r\nQ 29.59375 -1.421875 25.265625 0.953125 \r\nQ 20.953125 3.328125 18.109375 8.203125 \r\nL 18.109375 0 \r\nL 9.078125 0 \r\nL 9.078125 75.984375 \r\nL 18.109375 75.984375 \r\nz\r\n\" id=\"DejaVuSans-98\"/>\r\n        <path d=\"M 41.109375 46.296875 \r\nQ 39.59375 47.171875 37.8125 47.578125 \r\nQ 36.03125 48 33.890625 48 \r\nQ 26.265625 48 22.1875 43.046875 \r\nQ 18.109375 38.09375 18.109375 28.8125 \r\nL 18.109375 0 \r\nL 9.078125 0 \r\nL 9.078125 54.6875 \r\nL 18.109375 54.6875 \r\nL 18.109375 46.1875 \r\nQ 20.953125 51.171875 25.484375 53.578125 \r\nQ 30.03125 56 36.53125 56 \r\nQ 37.453125 56 38.578125 55.875 \r\nQ 39.703125 55.765625 41.0625 55.515625 \r\nz\r\n\" id=\"DejaVuSans-114\"/>\r\n        <path d=\"M 18.109375 8.203125 \r\nL 18.109375 -20.796875 \r\nL 9.078125 -20.796875 \r\nL 9.078125 54.6875 \r\nL 18.109375 54.6875 \r\nL 18.109375 46.390625 \r\nQ 20.953125 51.265625 25.265625 53.625 \r\nQ 29.59375 56 35.59375 56 \r\nQ 45.5625 56 51.78125 48.09375 \r\nQ 58.015625 40.1875 58.015625 27.296875 \r\nQ 58.015625 14.40625 51.78125 6.484375 \r\nQ 45.5625 -1.421875 35.59375 -1.421875 \r\nQ 29.59375 -1.421875 25.265625 0.953125 \r\nQ 20.953125 3.328125 18.109375 8.203125 \r\nz\r\nM 48.6875 27.296875 \r\nQ 48.6875 37.203125 44.609375 42.84375 \r\nQ 40.53125 48.484375 33.40625 48.484375 \r\nQ 26.265625 48.484375 22.1875 42.84375 \r\nQ 18.109375 37.203125 18.109375 27.296875 \r\nQ 18.109375 17.390625 22.1875 11.75 \r\nQ 26.265625 6.109375 33.40625 6.109375 \r\nQ 40.53125 6.109375 44.609375 11.75 \r\nQ 48.6875 17.390625 48.6875 27.296875 \r\nz\r\n\" id=\"DejaVuSans-112\"/>\r\n        <path d=\"M 9.421875 54.6875 \r\nL 18.40625 54.6875 \r\nL 18.40625 -0.984375 \r\nQ 18.40625 -11.421875 14.421875 -16.109375 \r\nQ 10.453125 -20.796875 1.609375 -20.796875 \r\nL -1.8125 -20.796875 \r\nL -1.8125 -13.1875 \r\nL 0.59375 -13.1875 \r\nQ 5.71875 -13.1875 7.5625 -10.8125 \r\nQ 9.421875 -8.453125 9.421875 -0.984375 \r\nz\r\nM 9.421875 75.984375 \r\nL 18.40625 75.984375 \r\nL 18.40625 64.59375 \r\nL 9.421875 64.59375 \r\nz\r\n\" id=\"DejaVuSans-106\"/>\r\n       </defs>\r\n       <use xlink:href=\"#DejaVuSans-110\"/>\r\n       <use x=\"63.378906\" xlink:href=\"#DejaVuSans-117\"/>\r\n       <use x=\"126.757812\" xlink:href=\"#DejaVuSans-109\"/>\r\n       <use x=\"224.169922\" xlink:href=\"#DejaVuSans-98\"/>\r\n       <use x=\"287.646484\" xlink:href=\"#DejaVuSans-101\"/>\r\n       <use x=\"349.169922\" xlink:href=\"#DejaVuSans-114\"/>\r\n       <use x=\"390.283203\" xlink:href=\"#DejaVuSans-95\"/>\r\n       <use x=\"440.283203\" xlink:href=\"#DejaVuSans-112\"/>\r\n       <use x=\"503.759766\" xlink:href=\"#DejaVuSans-114\"/>\r\n       <use x=\"542.623047\" xlink:href=\"#DejaVuSans-111\"/>\r\n       <use x=\"603.804688\" xlink:href=\"#DejaVuSans-106\"/>\r\n       <use x=\"631.587891\" xlink:href=\"#DejaVuSans-101\"/>\r\n       <use x=\"693.111328\" xlink:href=\"#DejaVuSans-99\"/>\r\n       <use x=\"748.091797\" xlink:href=\"#DejaVuSans-116\"/>\r\n      </g>\r\n     </g>\r\n    </g>\r\n    <g id=\"xtick_4\">\r\n     <g id=\"line2d_4\">\r\n      <g>\r\n       <use style=\"stroke:#000000;stroke-width:0.8;\" x=\"315.55675\" xlink:href=\"#me31ed2d00b\" y=\"228.439219\"/>\r\n      </g>\r\n     </g>\r\n     <g id=\"text_4\">\r\n      <!-- average_montly_hours -->\r\n      <g transform=\"translate(318.177063 349.307969)rotate(-90)scale(0.1 -0.1)\">\r\n       <defs>\r\n        <path d=\"M 45.40625 27.984375 \r\nQ 45.40625 37.75 41.375 43.109375 \r\nQ 37.359375 48.484375 30.078125 48.484375 \r\nQ 22.859375 48.484375 18.828125 43.109375 \r\nQ 14.796875 37.75 14.796875 27.984375 \r\nQ 14.796875 18.265625 18.828125 12.890625 \r\nQ 22.859375 7.515625 30.078125 7.515625 \r\nQ 37.359375 7.515625 41.375 12.890625 \r\nQ 45.40625 18.265625 45.40625 27.984375 \r\nz\r\nM 54.390625 6.78125 \r\nQ 54.390625 -7.171875 48.1875 -13.984375 \r\nQ 42 -20.796875 29.203125 -20.796875 \r\nQ 24.46875 -20.796875 20.265625 -20.09375 \r\nQ 16.0625 -19.390625 12.109375 -17.921875 \r\nL 12.109375 -9.1875 \r\nQ 16.0625 -11.328125 19.921875 -12.34375 \r\nQ 23.78125 -13.375 27.78125 -13.375 \r\nQ 36.625 -13.375 41.015625 -8.765625 \r\nQ 45.40625 -4.15625 45.40625 5.171875 \r\nL 45.40625 9.625 \r\nQ 42.625 4.78125 38.28125 2.390625 \r\nQ 33.9375 0 27.875 0 \r\nQ 17.828125 0 11.671875 7.65625 \r\nQ 5.515625 15.328125 5.515625 27.984375 \r\nQ 5.515625 40.671875 11.671875 48.328125 \r\nQ 17.828125 56 27.875 56 \r\nQ 33.9375 56 38.28125 53.609375 \r\nQ 42.625 51.21875 45.40625 46.390625 \r\nL 45.40625 54.6875 \r\nL 54.390625 54.6875 \r\nz\r\n\" id=\"DejaVuSans-103\"/>\r\n        <path d=\"M 32.171875 -5.078125 \r\nQ 28.375 -14.84375 24.75 -17.8125 \r\nQ 21.140625 -20.796875 15.09375 -20.796875 \r\nL 7.90625 -20.796875 \r\nL 7.90625 -13.28125 \r\nL 13.1875 -13.28125 \r\nQ 16.890625 -13.28125 18.9375 -11.515625 \r\nQ 21 -9.765625 23.484375 -3.21875 \r\nL 25.09375 0.875 \r\nL 2.984375 54.6875 \r\nL 12.5 54.6875 \r\nL 29.59375 11.921875 \r\nL 46.6875 54.6875 \r\nL 56.203125 54.6875 \r\nz\r\n\" id=\"DejaVuSans-121\"/>\r\n        <path d=\"M 54.890625 33.015625 \r\nL 54.890625 0 \r\nL 45.90625 0 \r\nL 45.90625 32.71875 \r\nQ 45.90625 40.484375 42.875 44.328125 \r\nQ 39.84375 48.1875 33.796875 48.1875 \r\nQ 26.515625 48.1875 22.3125 43.546875 \r\nQ 18.109375 38.921875 18.109375 30.90625 \r\nL 18.109375 0 \r\nL 9.078125 0 \r\nL 9.078125 75.984375 \r\nL 18.109375 75.984375 \r\nL 18.109375 46.1875 \r\nQ 21.34375 51.125 25.703125 53.5625 \r\nQ 30.078125 56 35.796875 56 \r\nQ 45.21875 56 50.046875 50.171875 \r\nQ 54.890625 44.34375 54.890625 33.015625 \r\nz\r\n\" id=\"DejaVuSans-104\"/>\r\n       </defs>\r\n       <use xlink:href=\"#DejaVuSans-97\"/>\r\n       <use x=\"61.279297\" xlink:href=\"#DejaVuSans-118\"/>\r\n       <use x=\"120.458984\" xlink:href=\"#DejaVuSans-101\"/>\r\n       <use x=\"181.982422\" xlink:href=\"#DejaVuSans-114\"/>\r\n       <use x=\"223.095703\" xlink:href=\"#DejaVuSans-97\"/>\r\n       <use x=\"284.375\" xlink:href=\"#DejaVuSans-103\"/>\r\n       <use x=\"347.851562\" xlink:href=\"#DejaVuSans-101\"/>\r\n       <use x=\"409.375\" xlink:href=\"#DejaVuSans-95\"/>\r\n       <use x=\"459.375\" xlink:href=\"#DejaVuSans-109\"/>\r\n       <use x=\"556.787109\" xlink:href=\"#DejaVuSans-111\"/>\r\n       <use x=\"617.96875\" xlink:href=\"#DejaVuSans-110\"/>\r\n       <use x=\"681.347656\" xlink:href=\"#DejaVuSans-116\"/>\r\n       <use x=\"720.556641\" xlink:href=\"#DejaVuSans-108\"/>\r\n       <use x=\"748.339844\" xlink:href=\"#DejaVuSans-121\"/>\r\n       <use x=\"807.519531\" xlink:href=\"#DejaVuSans-95\"/>\r\n       <use x=\"857.519531\" xlink:href=\"#DejaVuSans-104\"/>\r\n       <use x=\"920.898438\" xlink:href=\"#DejaVuSans-111\"/>\r\n       <use x=\"982.080078\" xlink:href=\"#DejaVuSans-117\"/>\r\n       <use x=\"1045.458984\" xlink:href=\"#DejaVuSans-114\"/>\r\n       <use x=\"1086.572266\" xlink:href=\"#DejaVuSans-115\"/>\r\n      </g>\r\n     </g>\r\n    </g>\r\n    <g id=\"xtick_5\">\r\n     <g id=\"line2d_5\">\r\n      <g>\r\n       <use style=\"stroke:#000000;stroke-width:0.8;\" x=\"369.12475\" xlink:href=\"#me31ed2d00b\" y=\"228.439219\"/>\r\n      </g>\r\n     </g>\r\n     <g id=\"text_5\">\r\n      <!-- time_spend_company -->\r\n      <g transform=\"translate(371.745063 344.518906)rotate(-90)scale(0.1 -0.1)\">\r\n       <defs>\r\n        <path d=\"M 45.40625 46.390625 \r\nL 45.40625 75.984375 \r\nL 54.390625 75.984375 \r\nL 54.390625 0 \r\nL 45.40625 0 \r\nL 45.40625 8.203125 \r\nQ 42.578125 3.328125 38.25 0.953125 \r\nQ 33.9375 -1.421875 27.875 -1.421875 \r\nQ 17.96875 -1.421875 11.734375 6.484375 \r\nQ 5.515625 14.40625 5.515625 27.296875 \r\nQ 5.515625 40.1875 11.734375 48.09375 \r\nQ 17.96875 56 27.875 56 \r\nQ 33.9375 56 38.25 53.625 \r\nQ 42.578125 51.265625 45.40625 46.390625 \r\nz\r\nM 14.796875 27.296875 \r\nQ 14.796875 17.390625 18.875 11.75 \r\nQ 22.953125 6.109375 30.078125 6.109375 \r\nQ 37.203125 6.109375 41.296875 11.75 \r\nQ 45.40625 17.390625 45.40625 27.296875 \r\nQ 45.40625 37.203125 41.296875 42.84375 \r\nQ 37.203125 48.484375 30.078125 48.484375 \r\nQ 22.953125 48.484375 18.875 42.84375 \r\nQ 14.796875 37.203125 14.796875 27.296875 \r\nz\r\n\" id=\"DejaVuSans-100\"/>\r\n       </defs>\r\n       <use xlink:href=\"#DejaVuSans-116\"/>\r\n       <use x=\"39.208984\" xlink:href=\"#DejaVuSans-105\"/>\r\n       <use x=\"66.992188\" xlink:href=\"#DejaVuSans-109\"/>\r\n       <use x=\"164.404297\" xlink:href=\"#DejaVuSans-101\"/>\r\n       <use x=\"225.927734\" xlink:href=\"#DejaVuSans-95\"/>\r\n       <use x=\"275.927734\" xlink:href=\"#DejaVuSans-115\"/>\r\n       <use x=\"328.027344\" xlink:href=\"#DejaVuSans-112\"/>\r\n       <use x=\"391.503906\" xlink:href=\"#DejaVuSans-101\"/>\r\n       <use x=\"453.027344\" xlink:href=\"#DejaVuSans-110\"/>\r\n       <use x=\"516.40625\" xlink:href=\"#DejaVuSans-100\"/>\r\n       <use x=\"579.882812\" xlink:href=\"#DejaVuSans-95\"/>\r\n       <use x=\"629.882812\" xlink:href=\"#DejaVuSans-99\"/>\r\n       <use x=\"684.863281\" xlink:href=\"#DejaVuSans-111\"/>\r\n       <use x=\"746.044922\" xlink:href=\"#DejaVuSans-109\"/>\r\n       <use x=\"843.457031\" xlink:href=\"#DejaVuSans-112\"/>\r\n       <use x=\"906.933594\" xlink:href=\"#DejaVuSans-97\"/>\r\n       <use x=\"968.212891\" xlink:href=\"#DejaVuSans-110\"/>\r\n       <use x=\"1031.591797\" xlink:href=\"#DejaVuSans-121\"/>\r\n      </g>\r\n     </g>\r\n    </g>\r\n   </g>\r\n   <g id=\"matplotlib.axis_2\">\r\n    <g id=\"ytick_1\">\r\n     <g id=\"line2d_6\">\r\n      <defs>\r\n       <path d=\"M 0 0 \r\nL -3.5 0 \r\n\" id=\"m4f739dfabb\" style=\"stroke:#000000;stroke-width:0.8;\"/>\r\n      </defs>\r\n      <g>\r\n       <use style=\"stroke:#000000;stroke-width:0.8;\" x=\"128.06875\" xlink:href=\"#m4f739dfabb\" y=\"32.743219\"/>\r\n      </g>\r\n     </g>\r\n     <g id=\"text_6\">\r\n      <!-- satisfaction_level -->\r\n      <g transform=\"translate(34.740625 36.542438)scale(0.1 -0.1)\">\r\n       <use xlink:href=\"#DejaVuSans-115\"/>\r\n       <use x=\"52.099609\" xlink:href=\"#DejaVuSans-97\"/>\r\n       <use x=\"113.378906\" xlink:href=\"#DejaVuSans-116\"/>\r\n       <use x=\"152.587891\" xlink:href=\"#DejaVuSans-105\"/>\r\n       <use x=\"180.371094\" xlink:href=\"#DejaVuSans-115\"/>\r\n       <use x=\"232.470703\" xlink:href=\"#DejaVuSans-102\"/>\r\n       <use x=\"267.675781\" xlink:href=\"#DejaVuSans-97\"/>\r\n       <use x=\"328.955078\" xlink:href=\"#DejaVuSans-99\"/>\r\n       <use x=\"383.935547\" xlink:href=\"#DejaVuSans-116\"/>\r\n       <use x=\"423.144531\" xlink:href=\"#DejaVuSans-105\"/>\r\n       <use x=\"450.927734\" xlink:href=\"#DejaVuSans-111\"/>\r\n       <use x=\"512.109375\" xlink:href=\"#DejaVuSans-110\"/>\r\n       <use x=\"575.488281\" xlink:href=\"#DejaVuSans-95\"/>\r\n       <use x=\"625.488281\" xlink:href=\"#DejaVuSans-108\"/>\r\n       <use x=\"653.271484\" xlink:href=\"#DejaVuSans-101\"/>\r\n       <use x=\"714.794922\" xlink:href=\"#DejaVuSans-118\"/>\r\n       <use x=\"773.974609\" xlink:href=\"#DejaVuSans-101\"/>\r\n       <use x=\"835.498047\" xlink:href=\"#DejaVuSans-108\"/>\r\n      </g>\r\n     </g>\r\n    </g>\r\n    <g id=\"ytick_2\">\r\n     <g id=\"line2d_7\">\r\n      <g>\r\n       <use style=\"stroke:#000000;stroke-width:0.8;\" x=\"128.06875\" xlink:href=\"#m4f739dfabb\" y=\"76.231219\"/>\r\n      </g>\r\n     </g>\r\n     <g id=\"text_7\">\r\n      <!-- last_evaluation -->\r\n      <g transform=\"translate(45.434375 80.030438)scale(0.1 -0.1)\">\r\n       <use xlink:href=\"#DejaVuSans-108\"/>\r\n       <use x=\"27.783203\" xlink:href=\"#DejaVuSans-97\"/>\r\n       <use x=\"89.0625\" xlink:href=\"#DejaVuSans-115\"/>\r\n       <use x=\"141.162109\" xlink:href=\"#DejaVuSans-116\"/>\r\n       <use x=\"180.371094\" xlink:href=\"#DejaVuSans-95\"/>\r\n       <use x=\"230.371094\" xlink:href=\"#DejaVuSans-101\"/>\r\n       <use x=\"291.894531\" xlink:href=\"#DejaVuSans-118\"/>\r\n       <use x=\"351.074219\" xlink:href=\"#DejaVuSans-97\"/>\r\n       <use x=\"412.353516\" xlink:href=\"#DejaVuSans-108\"/>\r\n       <use x=\"440.136719\" xlink:href=\"#DejaVuSans-117\"/>\r\n       <use x=\"503.515625\" xlink:href=\"#DejaVuSans-97\"/>\r\n       <use x=\"564.794922\" xlink:href=\"#DejaVuSans-116\"/>\r\n       <use x=\"604.003906\" xlink:href=\"#DejaVuSans-105\"/>\r\n       <use x=\"631.787109\" xlink:href=\"#DejaVuSans-111\"/>\r\n       <use x=\"692.96875\" xlink:href=\"#DejaVuSans-110\"/>\r\n      </g>\r\n     </g>\r\n    </g>\r\n    <g id=\"ytick_3\">\r\n     <g id=\"line2d_8\">\r\n      <g>\r\n       <use style=\"stroke:#000000;stroke-width:0.8;\" x=\"128.06875\" xlink:href=\"#m4f739dfabb\" y=\"119.719219\"/>\r\n      </g>\r\n     </g>\r\n     <g id=\"text_8\">\r\n      <!-- number_project -->\r\n      <g transform=\"translate(42.3375 123.518438)scale(0.1 -0.1)\">\r\n       <use xlink:href=\"#DejaVuSans-110\"/>\r\n       <use x=\"63.378906\" xlink:href=\"#DejaVuSans-117\"/>\r\n       <use x=\"126.757812\" xlink:href=\"#DejaVuSans-109\"/>\r\n       <use x=\"224.169922\" xlink:href=\"#DejaVuSans-98\"/>\r\n       <use x=\"287.646484\" xlink:href=\"#DejaVuSans-101\"/>\r\n       <use x=\"349.169922\" xlink:href=\"#DejaVuSans-114\"/>\r\n       <use x=\"390.283203\" xlink:href=\"#DejaVuSans-95\"/>\r\n       <use x=\"440.283203\" xlink:href=\"#DejaVuSans-112\"/>\r\n       <use x=\"503.759766\" xlink:href=\"#DejaVuSans-114\"/>\r\n       <use x=\"542.623047\" xlink:href=\"#DejaVuSans-111\"/>\r\n       <use x=\"603.804688\" xlink:href=\"#DejaVuSans-106\"/>\r\n       <use x=\"631.587891\" xlink:href=\"#DejaVuSans-101\"/>\r\n       <use x=\"693.111328\" xlink:href=\"#DejaVuSans-99\"/>\r\n       <use x=\"748.091797\" xlink:href=\"#DejaVuSans-116\"/>\r\n      </g>\r\n     </g>\r\n    </g>\r\n    <g id=\"ytick_4\">\r\n     <g id=\"line2d_9\">\r\n      <g>\r\n       <use style=\"stroke:#000000;stroke-width:0.8;\" x=\"128.06875\" xlink:href=\"#m4f739dfabb\" y=\"163.207219\"/>\r\n      </g>\r\n     </g>\r\n     <g id=\"text_9\">\r\n      <!-- average_montly_hours -->\r\n      <g transform=\"translate(7.2 167.006438)scale(0.1 -0.1)\">\r\n       <use xlink:href=\"#DejaVuSans-97\"/>\r\n       <use x=\"61.279297\" xlink:href=\"#DejaVuSans-118\"/>\r\n       <use x=\"120.458984\" xlink:href=\"#DejaVuSans-101\"/>\r\n       <use x=\"181.982422\" xlink:href=\"#DejaVuSans-114\"/>\r\n       <use x=\"223.095703\" xlink:href=\"#DejaVuSans-97\"/>\r\n       <use x=\"284.375\" xlink:href=\"#DejaVuSans-103\"/>\r\n       <use x=\"347.851562\" xlink:href=\"#DejaVuSans-101\"/>\r\n       <use x=\"409.375\" xlink:href=\"#DejaVuSans-95\"/>\r\n       <use x=\"459.375\" xlink:href=\"#DejaVuSans-109\"/>\r\n       <use x=\"556.787109\" xlink:href=\"#DejaVuSans-111\"/>\r\n       <use x=\"617.96875\" xlink:href=\"#DejaVuSans-110\"/>\r\n       <use x=\"681.347656\" xlink:href=\"#DejaVuSans-116\"/>\r\n       <use x=\"720.556641\" xlink:href=\"#DejaVuSans-108\"/>\r\n       <use x=\"748.339844\" xlink:href=\"#DejaVuSans-121\"/>\r\n       <use x=\"807.519531\" xlink:href=\"#DejaVuSans-95\"/>\r\n       <use x=\"857.519531\" xlink:href=\"#DejaVuSans-104\"/>\r\n       <use x=\"920.898438\" xlink:href=\"#DejaVuSans-111\"/>\r\n       <use x=\"982.080078\" xlink:href=\"#DejaVuSans-117\"/>\r\n       <use x=\"1045.458984\" xlink:href=\"#DejaVuSans-114\"/>\r\n       <use x=\"1086.572266\" xlink:href=\"#DejaVuSans-115\"/>\r\n      </g>\r\n     </g>\r\n    </g>\r\n    <g id=\"ytick_5\">\r\n     <g id=\"line2d_10\">\r\n      <g>\r\n       <use style=\"stroke:#000000;stroke-width:0.8;\" x=\"128.06875\" xlink:href=\"#m4f739dfabb\" y=\"206.695219\"/>\r\n      </g>\r\n     </g>\r\n     <g id=\"text_10\">\r\n      <!-- time_spend_company -->\r\n      <g transform=\"translate(11.989062 210.494438)scale(0.1 -0.1)\">\r\n       <use xlink:href=\"#DejaVuSans-116\"/>\r\n       <use x=\"39.208984\" xlink:href=\"#DejaVuSans-105\"/>\r\n       <use x=\"66.992188\" xlink:href=\"#DejaVuSans-109\"/>\r\n       <use x=\"164.404297\" xlink:href=\"#DejaVuSans-101\"/>\r\n       <use x=\"225.927734\" xlink:href=\"#DejaVuSans-95\"/>\r\n       <use x=\"275.927734\" xlink:href=\"#DejaVuSans-115\"/>\r\n       <use x=\"328.027344\" xlink:href=\"#DejaVuSans-112\"/>\r\n       <use x=\"391.503906\" xlink:href=\"#DejaVuSans-101\"/>\r\n       <use x=\"453.027344\" xlink:href=\"#DejaVuSans-110\"/>\r\n       <use x=\"516.40625\" xlink:href=\"#DejaVuSans-100\"/>\r\n       <use x=\"579.882812\" xlink:href=\"#DejaVuSans-95\"/>\r\n       <use x=\"629.882812\" xlink:href=\"#DejaVuSans-99\"/>\r\n       <use x=\"684.863281\" xlink:href=\"#DejaVuSans-111\"/>\r\n       <use x=\"746.044922\" xlink:href=\"#DejaVuSans-109\"/>\r\n       <use x=\"843.457031\" xlink:href=\"#DejaVuSans-112\"/>\r\n       <use x=\"906.933594\" xlink:href=\"#DejaVuSans-97\"/>\r\n       <use x=\"968.212891\" xlink:href=\"#DejaVuSans-110\"/>\r\n       <use x=\"1031.591797\" xlink:href=\"#DejaVuSans-121\"/>\r\n      </g>\r\n     </g>\r\n    </g>\r\n   </g>\r\n   <g id=\"text_11\">\r\n    <!-- 1 -->\r\n    <g style=\"fill:#262626;\" transform=\"translate(151.6715 35.502594)scale(0.1 -0.1)\">\r\n     <defs>\r\n      <path d=\"M 12.40625 8.296875 \r\nL 28.515625 8.296875 \r\nL 28.515625 63.921875 \r\nL 10.984375 60.40625 \r\nL 10.984375 69.390625 \r\nL 28.421875 72.90625 \r\nL 38.28125 72.90625 \r\nL 38.28125 8.296875 \r\nL 54.390625 8.296875 \r\nL 54.390625 0 \r\nL 12.40625 0 \r\nz\r\n\" id=\"DejaVuSans-49\"/>\r\n     </defs>\r\n     <use xlink:href=\"#DejaVuSans-49\"/>\r\n    </g>\r\n   </g>\r\n   <g id=\"text_12\">\r\n    <!-- 0.11 -->\r\n    <g style=\"fill:#ffffff;\" transform=\"translate(197.287937 35.502594)scale(0.1 -0.1)\">\r\n     <defs>\r\n      <path d=\"M 31.78125 66.40625 \r\nQ 24.171875 66.40625 20.328125 58.90625 \r\nQ 16.5 51.421875 16.5 36.375 \r\nQ 16.5 21.390625 20.328125 13.890625 \r\nQ 24.171875 6.390625 31.78125 6.390625 \r\nQ 39.453125 6.390625 43.28125 13.890625 \r\nQ 47.125 21.390625 47.125 36.375 \r\nQ 47.125 51.421875 43.28125 58.90625 \r\nQ 39.453125 66.40625 31.78125 66.40625 \r\nz\r\nM 31.78125 74.21875 \r\nQ 44.046875 74.21875 50.515625 64.515625 \r\nQ 56.984375 54.828125 56.984375 36.375 \r\nQ 56.984375 17.96875 50.515625 8.265625 \r\nQ 44.046875 -1.421875 31.78125 -1.421875 \r\nQ 19.53125 -1.421875 13.0625 8.265625 \r\nQ 6.59375 17.96875 6.59375 36.375 \r\nQ 6.59375 54.828125 13.0625 64.515625 \r\nQ 19.53125 74.21875 31.78125 74.21875 \r\nz\r\n\" id=\"DejaVuSans-48\"/>\r\n      <path d=\"M 10.6875 12.40625 \r\nL 21 12.40625 \r\nL 21 0 \r\nL 10.6875 0 \r\nz\r\n\" id=\"DejaVuSans-46\"/>\r\n     </defs>\r\n     <use xlink:href=\"#DejaVuSans-48\"/>\r\n     <use x=\"63.623047\" xlink:href=\"#DejaVuSans-46\"/>\r\n     <use x=\"95.410156\" xlink:href=\"#DejaVuSans-49\"/>\r\n     <use x=\"159.033203\" xlink:href=\"#DejaVuSans-49\"/>\r\n    </g>\r\n   </g>\r\n   <g id=\"text_13\">\r\n    <!-- -0.14 -->\r\n    <g style=\"fill:#ffffff;\" transform=\"translate(249.052031 35.502594)scale(0.1 -0.1)\">\r\n     <defs>\r\n      <path d=\"M 4.890625 31.390625 \r\nL 31.203125 31.390625 \r\nL 31.203125 23.390625 \r\nL 4.890625 23.390625 \r\nz\r\n\" id=\"DejaVuSans-45\"/>\r\n      <path d=\"M 37.796875 64.3125 \r\nL 12.890625 25.390625 \r\nL 37.796875 25.390625 \r\nz\r\nM 35.203125 72.90625 \r\nL 47.609375 72.90625 \r\nL 47.609375 25.390625 \r\nL 58.015625 25.390625 \r\nL 58.015625 17.1875 \r\nL 47.609375 17.1875 \r\nL 47.609375 0 \r\nL 37.796875 0 \r\nL 37.796875 17.1875 \r\nL 4.890625 17.1875 \r\nL 4.890625 26.703125 \r\nz\r\n\" id=\"DejaVuSans-52\"/>\r\n     </defs>\r\n     <use xlink:href=\"#DejaVuSans-45\"/>\r\n     <use x=\"36.083984\" xlink:href=\"#DejaVuSans-48\"/>\r\n     <use x=\"99.707031\" xlink:href=\"#DejaVuSans-46\"/>\r\n     <use x=\"131.494141\" xlink:href=\"#DejaVuSans-49\"/>\r\n     <use x=\"195.117188\" xlink:href=\"#DejaVuSans-52\"/>\r\n    </g>\r\n   </g>\r\n   <g id=\"text_14\">\r\n    <!-- -0.02 -->\r\n    <g style=\"fill:#ffffff;\" transform=\"translate(302.620031 35.502594)scale(0.1 -0.1)\">\r\n     <defs>\r\n      <path d=\"M 19.1875 8.296875 \r\nL 53.609375 8.296875 \r\nL 53.609375 0 \r\nL 7.328125 0 \r\nL 7.328125 8.296875 \r\nQ 12.9375 14.109375 22.625 23.890625 \r\nQ 32.328125 33.6875 34.8125 36.53125 \r\nQ 39.546875 41.84375 41.421875 45.53125 \r\nQ 43.3125 49.21875 43.3125 52.78125 \r\nQ 43.3125 58.59375 39.234375 62.25 \r\nQ 35.15625 65.921875 28.609375 65.921875 \r\nQ 23.96875 65.921875 18.8125 64.3125 \r\nQ 13.671875 62.703125 7.8125 59.421875 \r\nL 7.8125 69.390625 \r\nQ 13.765625 71.78125 18.9375 73 \r\nQ 24.125 74.21875 28.421875 74.21875 \r\nQ 39.75 74.21875 46.484375 68.546875 \r\nQ 53.21875 62.890625 53.21875 53.421875 \r\nQ 53.21875 48.921875 51.53125 44.890625 \r\nQ 49.859375 40.875 45.40625 35.40625 \r\nQ 44.1875 33.984375 37.640625 27.21875 \r\nQ 31.109375 20.453125 19.1875 8.296875 \r\nz\r\n\" id=\"DejaVuSans-50\"/>\r\n     </defs>\r\n     <use xlink:href=\"#DejaVuSans-45\"/>\r\n     <use x=\"36.083984\" xlink:href=\"#DejaVuSans-48\"/>\r\n     <use x=\"99.707031\" xlink:href=\"#DejaVuSans-46\"/>\r\n     <use x=\"131.494141\" xlink:href=\"#DejaVuSans-48\"/>\r\n     <use x=\"195.117188\" xlink:href=\"#DejaVuSans-50\"/>\r\n    </g>\r\n   </g>\r\n   <g id=\"text_15\">\r\n    <!-- -0.1 -->\r\n    <g style=\"fill:#ffffff;\" transform=\"translate(359.369281 35.502594)scale(0.1 -0.1)\">\r\n     <use xlink:href=\"#DejaVuSans-45\"/>\r\n     <use x=\"36.083984\" xlink:href=\"#DejaVuSans-48\"/>\r\n     <use x=\"99.707031\" xlink:href=\"#DejaVuSans-46\"/>\r\n     <use x=\"131.494141\" xlink:href=\"#DejaVuSans-49\"/>\r\n    </g>\r\n   </g>\r\n   <g id=\"text_16\">\r\n    <!-- 0.11 -->\r\n    <g style=\"fill:#ffffff;\" transform=\"translate(143.719938 78.990594)scale(0.1 -0.1)\">\r\n     <use xlink:href=\"#DejaVuSans-48\"/>\r\n     <use x=\"63.623047\" xlink:href=\"#DejaVuSans-46\"/>\r\n     <use x=\"95.410156\" xlink:href=\"#DejaVuSans-49\"/>\r\n     <use x=\"159.033203\" xlink:href=\"#DejaVuSans-49\"/>\r\n    </g>\r\n   </g>\r\n   <g id=\"text_17\">\r\n    <!-- 1 -->\r\n    <g style=\"fill:#262626;\" transform=\"translate(205.2395 78.990594)scale(0.1 -0.1)\">\r\n     <use xlink:href=\"#DejaVuSans-49\"/>\r\n    </g>\r\n   </g>\r\n   <g id=\"text_18\">\r\n    <!-- 0.35 -->\r\n    <g style=\"fill:#ffffff;\" transform=\"translate(250.855937 78.990594)scale(0.1 -0.1)\">\r\n     <defs>\r\n      <path d=\"M 40.578125 39.3125 \r\nQ 47.65625 37.796875 51.625 33 \r\nQ 55.609375 28.21875 55.609375 21.1875 \r\nQ 55.609375 10.40625 48.1875 4.484375 \r\nQ 40.765625 -1.421875 27.09375 -1.421875 \r\nQ 22.515625 -1.421875 17.65625 -0.515625 \r\nQ 12.796875 0.390625 7.625 2.203125 \r\nL 7.625 11.71875 \r\nQ 11.71875 9.328125 16.59375 8.109375 \r\nQ 21.484375 6.890625 26.8125 6.890625 \r\nQ 36.078125 6.890625 40.9375 10.546875 \r\nQ 45.796875 14.203125 45.796875 21.1875 \r\nQ 45.796875 27.640625 41.28125 31.265625 \r\nQ 36.765625 34.90625 28.71875 34.90625 \r\nL 20.21875 34.90625 \r\nL 20.21875 43.015625 \r\nL 29.109375 43.015625 \r\nQ 36.375 43.015625 40.234375 45.921875 \r\nQ 44.09375 48.828125 44.09375 54.296875 \r\nQ 44.09375 59.90625 40.109375 62.90625 \r\nQ 36.140625 65.921875 28.71875 65.921875 \r\nQ 24.65625 65.921875 20.015625 65.03125 \r\nQ 15.375 64.15625 9.8125 62.3125 \r\nL 9.8125 71.09375 \r\nQ 15.4375 72.65625 20.34375 73.4375 \r\nQ 25.25 74.21875 29.59375 74.21875 \r\nQ 40.828125 74.21875 47.359375 69.109375 \r\nQ 53.90625 64.015625 53.90625 55.328125 \r\nQ 53.90625 49.265625 50.4375 45.09375 \r\nQ 46.96875 40.921875 40.578125 39.3125 \r\nz\r\n\" id=\"DejaVuSans-51\"/>\r\n      <path d=\"M 10.796875 72.90625 \r\nL 49.515625 72.90625 \r\nL 49.515625 64.59375 \r\nL 19.828125 64.59375 \r\nL 19.828125 46.734375 \r\nQ 21.96875 47.46875 24.109375 47.828125 \r\nQ 26.265625 48.1875 28.421875 48.1875 \r\nQ 40.625 48.1875 47.75 41.5 \r\nQ 54.890625 34.8125 54.890625 23.390625 \r\nQ 54.890625 11.625 47.5625 5.09375 \r\nQ 40.234375 -1.421875 26.90625 -1.421875 \r\nQ 22.3125 -1.421875 17.546875 -0.640625 \r\nQ 12.796875 0.140625 7.71875 1.703125 \r\nL 7.71875 11.625 \r\nQ 12.109375 9.234375 16.796875 8.0625 \r\nQ 21.484375 6.890625 26.703125 6.890625 \r\nQ 35.15625 6.890625 40.078125 11.328125 \r\nQ 45.015625 15.765625 45.015625 23.390625 \r\nQ 45.015625 31 40.078125 35.4375 \r\nQ 35.15625 39.890625 26.703125 39.890625 \r\nQ 22.75 39.890625 18.8125 39.015625 \r\nQ 14.890625 38.140625 10.796875 36.28125 \r\nz\r\n\" id=\"DejaVuSans-53\"/>\r\n     </defs>\r\n     <use xlink:href=\"#DejaVuSans-48\"/>\r\n     <use x=\"63.623047\" xlink:href=\"#DejaVuSans-46\"/>\r\n     <use x=\"95.410156\" xlink:href=\"#DejaVuSans-51\"/>\r\n     <use x=\"159.033203\" xlink:href=\"#DejaVuSans-53\"/>\r\n    </g>\r\n   </g>\r\n   <g id=\"text_19\">\r\n    <!-- 0.34 -->\r\n    <g style=\"fill:#ffffff;\" transform=\"translate(304.423938 78.990594)scale(0.1 -0.1)\">\r\n     <use xlink:href=\"#DejaVuSans-48\"/>\r\n     <use x=\"63.623047\" xlink:href=\"#DejaVuSans-46\"/>\r\n     <use x=\"95.410156\" xlink:href=\"#DejaVuSans-51\"/>\r\n     <use x=\"159.033203\" xlink:href=\"#DejaVuSans-52\"/>\r\n    </g>\r\n   </g>\r\n   <g id=\"text_20\">\r\n    <!-- 0.13 -->\r\n    <g style=\"fill:#ffffff;\" transform=\"translate(357.991938 78.990594)scale(0.1 -0.1)\">\r\n     <use xlink:href=\"#DejaVuSans-48\"/>\r\n     <use x=\"63.623047\" xlink:href=\"#DejaVuSans-46\"/>\r\n     <use x=\"95.410156\" xlink:href=\"#DejaVuSans-49\"/>\r\n     <use x=\"159.033203\" xlink:href=\"#DejaVuSans-51\"/>\r\n    </g>\r\n   </g>\r\n   <g id=\"text_21\">\r\n    <!-- -0.14 -->\r\n    <g style=\"fill:#ffffff;\" transform=\"translate(141.916031 122.478594)scale(0.1 -0.1)\">\r\n     <use xlink:href=\"#DejaVuSans-45\"/>\r\n     <use x=\"36.083984\" xlink:href=\"#DejaVuSans-48\"/>\r\n     <use x=\"99.707031\" xlink:href=\"#DejaVuSans-46\"/>\r\n     <use x=\"131.494141\" xlink:href=\"#DejaVuSans-49\"/>\r\n     <use x=\"195.117188\" xlink:href=\"#DejaVuSans-52\"/>\r\n    </g>\r\n   </g>\r\n   <g id=\"text_22\">\r\n    <!-- 0.35 -->\r\n    <g style=\"fill:#ffffff;\" transform=\"translate(197.287937 122.478594)scale(0.1 -0.1)\">\r\n     <use xlink:href=\"#DejaVuSans-48\"/>\r\n     <use x=\"63.623047\" xlink:href=\"#DejaVuSans-46\"/>\r\n     <use x=\"95.410156\" xlink:href=\"#DejaVuSans-51\"/>\r\n     <use x=\"159.033203\" xlink:href=\"#DejaVuSans-53\"/>\r\n    </g>\r\n   </g>\r\n   <g id=\"text_23\">\r\n    <!-- 1 -->\r\n    <g style=\"fill:#262626;\" transform=\"translate(258.8075 122.478594)scale(0.1 -0.1)\">\r\n     <use xlink:href=\"#DejaVuSans-49\"/>\r\n    </g>\r\n   </g>\r\n   <g id=\"text_24\">\r\n    <!-- 0.42 -->\r\n    <g style=\"fill:#ffffff;\" transform=\"translate(304.423938 122.478594)scale(0.1 -0.1)\">\r\n     <use xlink:href=\"#DejaVuSans-48\"/>\r\n     <use x=\"63.623047\" xlink:href=\"#DejaVuSans-46\"/>\r\n     <use x=\"95.410156\" xlink:href=\"#DejaVuSans-52\"/>\r\n     <use x=\"159.033203\" xlink:href=\"#DejaVuSans-50\"/>\r\n    </g>\r\n   </g>\r\n   <g id=\"text_25\">\r\n    <!-- 0.2 -->\r\n    <g style=\"fill:#ffffff;\" transform=\"translate(361.173188 122.478594)scale(0.1 -0.1)\">\r\n     <use xlink:href=\"#DejaVuSans-48\"/>\r\n     <use x=\"63.623047\" xlink:href=\"#DejaVuSans-46\"/>\r\n     <use x=\"95.410156\" xlink:href=\"#DejaVuSans-50\"/>\r\n    </g>\r\n   </g>\r\n   <g id=\"text_26\">\r\n    <!-- -0.02 -->\r\n    <g style=\"fill:#ffffff;\" transform=\"translate(141.916031 165.966594)scale(0.1 -0.1)\">\r\n     <use xlink:href=\"#DejaVuSans-45\"/>\r\n     <use x=\"36.083984\" xlink:href=\"#DejaVuSans-48\"/>\r\n     <use x=\"99.707031\" xlink:href=\"#DejaVuSans-46\"/>\r\n     <use x=\"131.494141\" xlink:href=\"#DejaVuSans-48\"/>\r\n     <use x=\"195.117188\" xlink:href=\"#DejaVuSans-50\"/>\r\n    </g>\r\n   </g>\r\n   <g id=\"text_27\">\r\n    <!-- 0.34 -->\r\n    <g style=\"fill:#ffffff;\" transform=\"translate(197.287937 165.966594)scale(0.1 -0.1)\">\r\n     <use xlink:href=\"#DejaVuSans-48\"/>\r\n     <use x=\"63.623047\" xlink:href=\"#DejaVuSans-46\"/>\r\n     <use x=\"95.410156\" xlink:href=\"#DejaVuSans-51\"/>\r\n     <use x=\"159.033203\" xlink:href=\"#DejaVuSans-52\"/>\r\n    </g>\r\n   </g>\r\n   <g id=\"text_28\">\r\n    <!-- 0.42 -->\r\n    <g style=\"fill:#ffffff;\" transform=\"translate(250.855937 165.966594)scale(0.1 -0.1)\">\r\n     <use xlink:href=\"#DejaVuSans-48\"/>\r\n     <use x=\"63.623047\" xlink:href=\"#DejaVuSans-46\"/>\r\n     <use x=\"95.410156\" xlink:href=\"#DejaVuSans-52\"/>\r\n     <use x=\"159.033203\" xlink:href=\"#DejaVuSans-50\"/>\r\n    </g>\r\n   </g>\r\n   <g id=\"text_29\">\r\n    <!-- 1 -->\r\n    <g style=\"fill:#262626;\" transform=\"translate(312.3755 165.966594)scale(0.1 -0.1)\">\r\n     <use xlink:href=\"#DejaVuSans-49\"/>\r\n    </g>\r\n   </g>\r\n   <g id=\"text_30\">\r\n    <!-- 0.13 -->\r\n    <g style=\"fill:#ffffff;\" transform=\"translate(357.991938 165.966594)scale(0.1 -0.1)\">\r\n     <use xlink:href=\"#DejaVuSans-48\"/>\r\n     <use x=\"63.623047\" xlink:href=\"#DejaVuSans-46\"/>\r\n     <use x=\"95.410156\" xlink:href=\"#DejaVuSans-49\"/>\r\n     <use x=\"159.033203\" xlink:href=\"#DejaVuSans-51\"/>\r\n    </g>\r\n   </g>\r\n   <g id=\"text_31\">\r\n    <!-- -0.1 -->\r\n    <g style=\"fill:#ffffff;\" transform=\"translate(145.097281 209.454594)scale(0.1 -0.1)\">\r\n     <use xlink:href=\"#DejaVuSans-45\"/>\r\n     <use x=\"36.083984\" xlink:href=\"#DejaVuSans-48\"/>\r\n     <use x=\"99.707031\" xlink:href=\"#DejaVuSans-46\"/>\r\n     <use x=\"131.494141\" xlink:href=\"#DejaVuSans-49\"/>\r\n    </g>\r\n   </g>\r\n   <g id=\"text_32\">\r\n    <!-- 0.13 -->\r\n    <g style=\"fill:#ffffff;\" transform=\"translate(197.287937 209.454594)scale(0.1 -0.1)\">\r\n     <use xlink:href=\"#DejaVuSans-48\"/>\r\n     <use x=\"63.623047\" xlink:href=\"#DejaVuSans-46\"/>\r\n     <use x=\"95.410156\" xlink:href=\"#DejaVuSans-49\"/>\r\n     <use x=\"159.033203\" xlink:href=\"#DejaVuSans-51\"/>\r\n    </g>\r\n   </g>\r\n   <g id=\"text_33\">\r\n    <!-- 0.2 -->\r\n    <g style=\"fill:#ffffff;\" transform=\"translate(254.037187 209.454594)scale(0.1 -0.1)\">\r\n     <use xlink:href=\"#DejaVuSans-48\"/>\r\n     <use x=\"63.623047\" xlink:href=\"#DejaVuSans-46\"/>\r\n     <use x=\"95.410156\" xlink:href=\"#DejaVuSans-50\"/>\r\n    </g>\r\n   </g>\r\n   <g id=\"text_34\">\r\n    <!-- 0.13 -->\r\n    <g style=\"fill:#ffffff;\" transform=\"translate(304.423938 209.454594)scale(0.1 -0.1)\">\r\n     <use xlink:href=\"#DejaVuSans-48\"/>\r\n     <use x=\"63.623047\" xlink:href=\"#DejaVuSans-46\"/>\r\n     <use x=\"95.410156\" xlink:href=\"#DejaVuSans-49\"/>\r\n     <use x=\"159.033203\" xlink:href=\"#DejaVuSans-51\"/>\r\n    </g>\r\n   </g>\r\n   <g id=\"text_35\">\r\n    <!-- 1 -->\r\n    <g style=\"fill:#262626;\" transform=\"translate(365.9435 209.454594)scale(0.1 -0.1)\">\r\n     <use xlink:href=\"#DejaVuSans-49\"/>\r\n    </g>\r\n   </g>\r\n  </g>\r\n  <g id=\"axes_2\">\r\n   <g id=\"patch_3\">\r\n    <path clip-path=\"url(#p06425a7e10)\" d=\"M 412.64875 228.439219 \r\nL 412.64875 227.589844 \r\nL 412.64875 11.848594 \r\nL 412.64875 10.999219 \r\nL 423.52075 10.999219 \r\nL 423.52075 11.848594 \r\nL 423.52075 227.589844 \r\nL 423.52075 228.439219 \r\nz\r\n\" style=\"fill:#ffffff;stroke:#ffffff;stroke-linejoin:miter;stroke-width:0.01;\"/>\r\n   </g>\r\n   <image height=\"218\" id=\"image30b1ded6ed\" transform=\"scale(1 -1)translate(0 -218)\" width=\"11\" x=\"413\" xlink:href=\"data:image/png;base64,\r\niVBORw0KGgoAAAANSUhEUgAAAAsAAADaCAYAAABwzrisAAABVElEQVR4nO2ZMQ7DQAgE4SCfyP/fGadOxxQTkciu0WrYReczzn48rxg+nZnTWloclvIhxZXHwvj3BlGCiNnzGbpBij03NGXmxpIGxbhXMIvD/4MJIjcqQNzzUvfkZ9bNHzb8zA0tbg/DG37TOqDMGmQjCjDWxA2UTeYVGGw2xp8HshugGA4/wSBueA0yN7QEWdw7MEQ3xNmYS3d7GBfAMI8CgFEaM2zQwqh4AWVgtMic4CzoQ4qLFHsY4MJoYhxwJMEGiTJzgyjXAcMPPoBgKEvcOODdBplF64gyYmZuIAyrGGwsorN3YICXiqkMLhEicxBliEGUC2x7kDIstjAS3Dg6yO7LcyM1N6LmGw4xFM9nZh1zQ5tnsjZkymChRUMhv0jE2fDi9s6Nu8GvKNf83rOGeYcbmd5rQnODxb3iYETKLJQtw7/C50Ru3A1+YMwbJLu9eAM9Wisla7XQ8AAAAABJRU5ErkJggg==\" y=\"-10\"/>\r\n   <g id=\"matplotlib.axis_3\"/>\r\n   <g id=\"matplotlib.axis_4\">\r\n    <g id=\"ytick_6\">\r\n     <g id=\"line2d_11\">\r\n      <defs>\r\n       <path d=\"M 0 0 \r\nL 3.5 0 \r\n\" id=\"md2b4fb5482\" style=\"stroke:#000000;stroke-width:0.8;\"/>\r\n      </defs>\r\n      <g>\r\n       <use style=\"stroke:#000000;stroke-width:0.8;\" x=\"423.52075\" xlink:href=\"#md2b4fb5482\" y=\"201.240501\"/>\r\n      </g>\r\n     </g>\r\n     <g id=\"text_36\">\r\n      <!-- 0.0 -->\r\n      <g transform=\"translate(430.52075 205.03972)scale(0.1 -0.1)\">\r\n       <use xlink:href=\"#DejaVuSans-48\"/>\r\n       <use x=\"63.623047\" xlink:href=\"#DejaVuSans-46\"/>\r\n       <use x=\"95.410156\" xlink:href=\"#DejaVuSans-48\"/>\r\n      </g>\r\n     </g>\r\n    </g>\r\n    <g id=\"ytick_7\">\r\n     <g id=\"line2d_12\">\r\n      <g>\r\n       <use style=\"stroke:#000000;stroke-width:0.8;\" x=\"423.52075\" xlink:href=\"#md2b4fb5482\" y=\"163.192245\"/>\r\n      </g>\r\n     </g>\r\n     <g id=\"text_37\">\r\n      <!-- 0.2 -->\r\n      <g transform=\"translate(430.52075 166.991464)scale(0.1 -0.1)\">\r\n       <use xlink:href=\"#DejaVuSans-48\"/>\r\n       <use x=\"63.623047\" xlink:href=\"#DejaVuSans-46\"/>\r\n       <use x=\"95.410156\" xlink:href=\"#DejaVuSans-50\"/>\r\n      </g>\r\n     </g>\r\n    </g>\r\n    <g id=\"ytick_8\">\r\n     <g id=\"line2d_13\">\r\n      <g>\r\n       <use style=\"stroke:#000000;stroke-width:0.8;\" x=\"423.52075\" xlink:href=\"#md2b4fb5482\" y=\"125.143988\"/>\r\n      </g>\r\n     </g>\r\n     <g id=\"text_38\">\r\n      <!-- 0.4 -->\r\n      <g transform=\"translate(430.52075 128.943207)scale(0.1 -0.1)\">\r\n       <use xlink:href=\"#DejaVuSans-48\"/>\r\n       <use x=\"63.623047\" xlink:href=\"#DejaVuSans-46\"/>\r\n       <use x=\"95.410156\" xlink:href=\"#DejaVuSans-52\"/>\r\n      </g>\r\n     </g>\r\n    </g>\r\n    <g id=\"ytick_9\">\r\n     <g id=\"line2d_14\">\r\n      <g>\r\n       <use style=\"stroke:#000000;stroke-width:0.8;\" x=\"423.52075\" xlink:href=\"#md2b4fb5482\" y=\"87.095732\"/>\r\n      </g>\r\n     </g>\r\n     <g id=\"text_39\">\r\n      <!-- 0.6 -->\r\n      <g transform=\"translate(430.52075 90.894951)scale(0.1 -0.1)\">\r\n       <defs>\r\n        <path d=\"M 33.015625 40.375 \r\nQ 26.375 40.375 22.484375 35.828125 \r\nQ 18.609375 31.296875 18.609375 23.390625 \r\nQ 18.609375 15.53125 22.484375 10.953125 \r\nQ 26.375 6.390625 33.015625 6.390625 \r\nQ 39.65625 6.390625 43.53125 10.953125 \r\nQ 47.40625 15.53125 47.40625 23.390625 \r\nQ 47.40625 31.296875 43.53125 35.828125 \r\nQ 39.65625 40.375 33.015625 40.375 \r\nz\r\nM 52.59375 71.296875 \r\nL 52.59375 62.3125 \r\nQ 48.875 64.0625 45.09375 64.984375 \r\nQ 41.3125 65.921875 37.59375 65.921875 \r\nQ 27.828125 65.921875 22.671875 59.328125 \r\nQ 17.53125 52.734375 16.796875 39.40625 \r\nQ 19.671875 43.65625 24.015625 45.921875 \r\nQ 28.375 48.1875 33.59375 48.1875 \r\nQ 44.578125 48.1875 50.953125 41.515625 \r\nQ 57.328125 34.859375 57.328125 23.390625 \r\nQ 57.328125 12.15625 50.6875 5.359375 \r\nQ 44.046875 -1.421875 33.015625 -1.421875 \r\nQ 20.359375 -1.421875 13.671875 8.265625 \r\nQ 6.984375 17.96875 6.984375 36.375 \r\nQ 6.984375 53.65625 15.1875 63.9375 \r\nQ 23.390625 74.21875 37.203125 74.21875 \r\nQ 40.921875 74.21875 44.703125 73.484375 \r\nQ 48.484375 72.75 52.59375 71.296875 \r\nz\r\n\" id=\"DejaVuSans-54\"/>\r\n       </defs>\r\n       <use xlink:href=\"#DejaVuSans-48\"/>\r\n       <use x=\"63.623047\" xlink:href=\"#DejaVuSans-46\"/>\r\n       <use x=\"95.410156\" xlink:href=\"#DejaVuSans-54\"/>\r\n      </g>\r\n     </g>\r\n    </g>\r\n    <g id=\"ytick_10\">\r\n     <g id=\"line2d_15\">\r\n      <g>\r\n       <use style=\"stroke:#000000;stroke-width:0.8;\" x=\"423.52075\" xlink:href=\"#md2b4fb5482\" y=\"49.047475\"/>\r\n      </g>\r\n     </g>\r\n     <g id=\"text_40\">\r\n      <!-- 0.8 -->\r\n      <g transform=\"translate(430.52075 52.846694)scale(0.1 -0.1)\">\r\n       <defs>\r\n        <path d=\"M 31.78125 34.625 \r\nQ 24.75 34.625 20.71875 30.859375 \r\nQ 16.703125 27.09375 16.703125 20.515625 \r\nQ 16.703125 13.921875 20.71875 10.15625 \r\nQ 24.75 6.390625 31.78125 6.390625 \r\nQ 38.8125 6.390625 42.859375 10.171875 \r\nQ 46.921875 13.96875 46.921875 20.515625 \r\nQ 46.921875 27.09375 42.890625 30.859375 \r\nQ 38.875 34.625 31.78125 34.625 \r\nz\r\nM 21.921875 38.8125 \r\nQ 15.578125 40.375 12.03125 44.71875 \r\nQ 8.5 49.078125 8.5 55.328125 \r\nQ 8.5 64.0625 14.71875 69.140625 \r\nQ 20.953125 74.21875 31.78125 74.21875 \r\nQ 42.671875 74.21875 48.875 69.140625 \r\nQ 55.078125 64.0625 55.078125 55.328125 \r\nQ 55.078125 49.078125 51.53125 44.71875 \r\nQ 48 40.375 41.703125 38.8125 \r\nQ 48.828125 37.15625 52.796875 32.3125 \r\nQ 56.78125 27.484375 56.78125 20.515625 \r\nQ 56.78125 9.90625 50.3125 4.234375 \r\nQ 43.84375 -1.421875 31.78125 -1.421875 \r\nQ 19.734375 -1.421875 13.25 4.234375 \r\nQ 6.78125 9.90625 6.78125 20.515625 \r\nQ 6.78125 27.484375 10.78125 32.3125 \r\nQ 14.796875 37.15625 21.921875 38.8125 \r\nz\r\nM 18.3125 54.390625 \r\nQ 18.3125 48.734375 21.84375 45.5625 \r\nQ 25.390625 42.390625 31.78125 42.390625 \r\nQ 38.140625 42.390625 41.71875 45.5625 \r\nQ 45.3125 48.734375 45.3125 54.390625 \r\nQ 45.3125 60.0625 41.71875 63.234375 \r\nQ 38.140625 66.40625 31.78125 66.40625 \r\nQ 25.390625 66.40625 21.84375 63.234375 \r\nQ 18.3125 60.0625 18.3125 54.390625 \r\nz\r\n\" id=\"DejaVuSans-56\"/>\r\n       </defs>\r\n       <use xlink:href=\"#DejaVuSans-48\"/>\r\n       <use x=\"63.623047\" xlink:href=\"#DejaVuSans-46\"/>\r\n       <use x=\"95.410156\" xlink:href=\"#DejaVuSans-56\"/>\r\n      </g>\r\n     </g>\r\n    </g>\r\n    <g id=\"ytick_11\">\r\n     <g id=\"line2d_16\">\r\n      <g>\r\n       <use style=\"stroke:#000000;stroke-width:0.8;\" x=\"423.52075\" xlink:href=\"#md2b4fb5482\" y=\"10.999219\"/>\r\n      </g>\r\n     </g>\r\n     <g id=\"text_41\">\r\n      <!-- 1.0 -->\r\n      <g transform=\"translate(430.52075 14.798438)scale(0.1 -0.1)\">\r\n       <use xlink:href=\"#DejaVuSans-49\"/>\r\n       <use x=\"63.623047\" xlink:href=\"#DejaVuSans-46\"/>\r\n       <use x=\"95.410156\" xlink:href=\"#DejaVuSans-48\"/>\r\n      </g>\r\n     </g>\r\n    </g>\r\n   </g>\r\n   <g id=\"patch_4\">\r\n    <path d=\"M 412.64875 228.439219 \r\nL 412.64875 227.589844 \r\nL 412.64875 11.848594 \r\nL 412.64875 10.999219 \r\nL 423.52075 10.999219 \r\nL 423.52075 11.848594 \r\nL 423.52075 227.589844 \r\nL 423.52075 228.439219 \r\nz\r\n\" style=\"fill:none;\"/>\r\n   </g>\r\n  </g>\r\n </g>\r\n <defs>\r\n  <clipPath id=\"p9a9f0a5218\">\r\n   <rect height=\"217.44\" width=\"267.84\" x=\"128.06875\" y=\"10.999219\"/>\r\n  </clipPath>\r\n  <clipPath id=\"p06425a7e10\">\r\n   <rect height=\"217.44\" width=\"10.872\" x=\"412.64875\" y=\"10.999219\"/>\r\n  </clipPath>\r\n </defs>\r\n</svg>\r\n",
      "image/png": "[encoded data removed]"
     },
     "metadata": {
      "needs_background": "light"
     }
    }
   ],
   "source": [
    "sns.heatmap(df_quantitat.corr(), annot=True)"
   ]
  },
  {
   "source": [
    "Наиболее взаимосвязанные признаки - количество проектов и среднее количество рабочих часов в месяц.  \n",
    "Это логично - чем дольше сотрудник работает, тем больше успевает сделать.\n",
    "\n",
    "Практически отсутствует взаимосвязь между уровнем удовлетворенности и средним количеством рабочих часов в месяц."
   ],
   "cell_type": "markdown",
   "metadata": {}
  },
  {
   "source": [
    "### Распределение"
   ],
   "cell_type": "markdown",
   "metadata": {}
  },
  {
   "source": [
    "Количество сотрудников по департаментам"
   ],
   "cell_type": "markdown",
   "metadata": {}
  },
  {
   "cell_type": "code",
   "execution_count": 65,
   "metadata": {},
   "outputs": [
    {
     "output_type": "execute_result",
     "data": {
      "text/plain": [
       "department\n",
       "IT             1227\n",
       "RandD           787\n",
       "accounting      767\n",
       "hr              739\n",
       "management      630\n",
       "marketing       858\n",
       "product_mng     902\n",
       "sales          4140\n",
       "support        2229\n",
       "technical      2720\n",
       "dtype: int64"
      ]
     },
     "metadata": {},
     "execution_count": 65
    }
   ],
   "source": [
    "df.groupby('department').size()"
   ]
  },
  {
   "source": [
    "Распределение сотрудников по зарплатам"
   ],
   "cell_type": "markdown",
   "metadata": {}
  },
  {
   "cell_type": "code",
   "execution_count": 124,
   "metadata": {},
   "outputs": [
    {
     "output_type": "execute_result",
     "data": {
      "text/plain": [
       "low       7316\n",
       "medium    6446\n",
       "high      1237\n",
       "Name: salary, dtype: int64"
      ]
     },
     "metadata": {},
     "execution_count": 124
    }
   ],
   "source": [
    "df.salary.value_counts()"
   ]
  },
  {
   "source": [
    "Распределение сотрудников по зарплатам в каждом департаменте"
   ],
   "cell_type": "markdown",
   "metadata": {}
  },
  {
   "cell_type": "code",
   "execution_count": 81,
   "metadata": {},
   "outputs": [
    {
     "output_type": "execute_result",
     "data": {
      "text/plain": [
       "salary       high   low  medium\n",
       "department                     \n",
       "IT             83   609     535\n",
       "RandD          51   364     372\n",
       "accounting     74   358     335\n",
       "hr             45   335     359\n",
       "management    225   180     225\n",
       "marketing      80   402     376\n",
       "product_mng    68   451     383\n",
       "sales         269  2099    1772\n",
       "support       141  1146     942\n",
       "technical     201  1372    1147"
      ],
      "text/html": "<div>\n<style scoped>\n    .dataframe tbody tr th:only-of-type {\n        vertical-align: middle;\n    }\n\n    .dataframe tbody tr th {\n        vertical-align: top;\n    }\n\n    .dataframe thead th {\n        text-align: right;\n    }\n</style>\n<table border=\"1\" class=\"dataframe\">\n  <thead>\n    <tr style=\"text-align: right;\">\n      <th>salary</th>\n      <th>high</th>\n      <th>low</th>\n      <th>medium</th>\n    </tr>\n    <tr>\n      <th>department</th>\n      <th></th>\n      <th></th>\n      <th></th>\n    </tr>\n  </thead>\n  <tbody>\n    <tr>\n      <th>IT</th>\n      <td>83</td>\n      <td>609</td>\n      <td>535</td>\n    </tr>\n    <tr>\n      <th>RandD</th>\n      <td>51</td>\n      <td>364</td>\n      <td>372</td>\n    </tr>\n    <tr>\n      <th>accounting</th>\n      <td>74</td>\n      <td>358</td>\n      <td>335</td>\n    </tr>\n    <tr>\n      <th>hr</th>\n      <td>45</td>\n      <td>335</td>\n      <td>359</td>\n    </tr>\n    <tr>\n      <th>management</th>\n      <td>225</td>\n      <td>180</td>\n      <td>225</td>\n    </tr>\n    <tr>\n      <th>marketing</th>\n      <td>80</td>\n      <td>402</td>\n      <td>376</td>\n    </tr>\n    <tr>\n      <th>product_mng</th>\n      <td>68</td>\n      <td>451</td>\n      <td>383</td>\n    </tr>\n    <tr>\n      <th>sales</th>\n      <td>269</td>\n      <td>2099</td>\n      <td>1772</td>\n    </tr>\n    <tr>\n      <th>support</th>\n      <td>141</td>\n      <td>1146</td>\n      <td>942</td>\n    </tr>\n    <tr>\n      <th>technical</th>\n      <td>201</td>\n      <td>1372</td>\n      <td>1147</td>\n    </tr>\n  </tbody>\n</table>\n</div>"
     },
     "metadata": {},
     "execution_count": 81
    }
   ],
   "source": [
    "df.pivot_table(index='department', columns='salary', aggfunc='size')"
   ]
  },
  {
   "source": [
    "### Проверка гипотезы"
   ],
   "cell_type": "markdown",
   "metadata": {}
  },
  {
   "cell_type": "code",
   "execution_count": 134,
   "metadata": {},
   "outputs": [
    {
     "output_type": "execute_result",
     "data": {
      "text/plain": [
       "199.86742118027485"
      ]
     },
     "metadata": {},
     "execution_count": 134
    }
   ],
   "source": [
    "df[df.salary == 'low']['average_montly_hours'].mean()\n",
    "df[df.salary == 'high']['average_montly_hours'].mean()"
   ]
  },
  {
   "source": [
    "### Показатели уволившихся и не уволившихся сотрудников"
   ],
   "cell_type": "markdown",
   "metadata": {}
  },
  {
   "cell_type": "code",
   "execution_count": 91,
   "metadata": {},
   "outputs": [],
   "source": [
    "df_fired = df[df.left == 1]\n",
    "df_active = df[df.left == 0]"
   ]
  },
  {
   "cell_type": "code",
   "execution_count": 131,
   "metadata": {},
   "outputs": [
    {
     "output_type": "execute_result",
     "data": {
      "text/plain": [
       "                          Показатель  Уволившиеся  Действующие\n",
       "0          Доля получивших повышение        0.005        0.026\n",
       "0  Средняя степень удовлетворенности        0.440        0.667\n",
       "0        Среднее количество проектов        3.856        3.787"
      ],
      "text/html": "<div>\n<style scoped>\n    .dataframe tbody tr th:only-of-type {\n        vertical-align: middle;\n    }\n\n    .dataframe tbody tr th {\n        vertical-align: top;\n    }\n\n    .dataframe thead th {\n        text-align: right;\n    }\n</style>\n<table border=\"1\" class=\"dataframe\">\n  <thead>\n    <tr style=\"text-align: right;\">\n      <th></th>\n      <th>Показатель</th>\n      <th>Уволившиеся</th>\n      <th>Действующие</th>\n    </tr>\n  </thead>\n  <tbody>\n    <tr>\n      <th>0</th>\n      <td>Доля получивших повышение</td>\n      <td>0.005</td>\n      <td>0.026</td>\n    </tr>\n    <tr>\n      <th>0</th>\n      <td>Средняя степень удовлетворенности</td>\n      <td>0.440</td>\n      <td>0.667</td>\n    </tr>\n    <tr>\n      <th>0</th>\n      <td>Среднее количество проектов</td>\n      <td>3.856</td>\n      <td>3.787</td>\n    </tr>\n  </tbody>\n</table>\n</div>"
     },
     "metadata": {},
     "execution_count": 131
    }
   ],
   "source": [
    "df_metrics = pd.DataFrame()\n",
    "rows = []\n",
    "\n",
    "rows.append(\n",
    "    {\n",
    "    'Показатель': 'Доля получивших повышение',\n",
    "    'Уволившиеся': round(df_fired.promotion_last_5years.value_counts(normalize=True)[1], 3),\n",
    "    'Действующие': round(df_active.promotion_last_5years.value_counts(normalize=True)[1], 3)\n",
    "    }\n",
    ")\n",
    "\n",
    "rows.append(\n",
    "    {\n",
    "    'Показатель': 'Средняя степень удовлетворенности',\n",
    "    'Уволившиеся': round(df_fired.satisfaction_level.mean(), 3),\n",
    "    'Действующие': round(df_active.satisfaction_level.mean(), 3)\n",
    "    }\n",
    ")\n",
    "\n",
    "rows.append(\n",
    "    {\n",
    "    'Показатель': 'Среднее количество проектов',\n",
    "    'Уволившиеся': round(df_fired.number_project.mean(), 3),\n",
    "    'Действующие': round(df_active.number_project.mean(), 3)\n",
    "    }\n",
    ")\n",
    "\n",
    "for row in rows:\n",
    "    df_metrics = pd.concat([df_metrics, pd.DataFrame([row])])\n",
    "\n",
    "df_metrics"
   ]
  },
  {
   "source": [
    "### Модель LDA"
   ],
   "cell_type": "markdown",
   "metadata": {}
  },
  {
   "cell_type": "code",
   "execution_count": 145,
   "metadata": {},
   "outputs": [
    {
     "output_type": "stream",
     "name": "stderr",
     "text": [
      "<ipython-input-145-ade602f7ad59>:11: SettingWithCopyWarning: \nA value is trying to be set on a copy of a slice from a DataFrame.\nTry using .loc[row_indexer,col_indexer] = value instead\n\nSee the caveats in the documentation: https://pandas.pydata.org/pandas-docs/stable/user_guide/indexing.html#returning-a-view-versus-a-copy\n  df2['left_fact'] = Y_test\n<ipython-input-145-ade602f7ad59>:12: SettingWithCopyWarning: \nA value is trying to be set on a copy of a slice from a DataFrame.\nTry using .loc[row_indexer,col_indexer] = value instead\n\nSee the caveats in the documentation: https://pandas.pydata.org/pandas-docs/stable/user_guide/indexing.html#returning-a-view-versus-a-copy\n  df2['left_predict'] = Y_pred\n"
     ]
    },
    {
     "output_type": "execute_result",
     "data": {
      "text/plain": [
       "       satisfaction_level  last_evaluation  number_project  \\\n",
       "347                  0.11             0.80               6   \n",
       "12334                0.10             0.81               6   \n",
       "8903                 0.65             0.84               3   \n",
       "5407                 0.49             0.74               3   \n",
       "5506                 0.92             0.81               3   \n",
       "...                   ...              ...             ...   \n",
       "8859                 0.69             0.54               5   \n",
       "3084                 0.34             0.57               4   \n",
       "2570                 0.80             0.96               3   \n",
       "1681                 0.83             0.94               4   \n",
       "3990                 0.89             0.93               4   \n",
       "\n",
       "       average_montly_hours  time_spend_company  Work_accident  \\\n",
       "347                     282                   4              0   \n",
       "12334                   290                   4              0   \n",
       "8903                    189                   2              1   \n",
       "5407                    229                   3              1   \n",
       "5506                    196                   2              0   \n",
       "...                     ...                 ...            ...   \n",
       "8859                    152                   3              1   \n",
       "3084                    152                   3              1   \n",
       "2570                    257                   5              0   \n",
       "1681                    264                   5              0   \n",
       "3990                    249                   3              0   \n",
       "\n",
       "       promotion_last_5years  left_fact  left_predict  \n",
       "347                        0          1             1  \n",
       "12334                      0          1             1  \n",
       "8903                       0          0             0  \n",
       "5407                       0          0             0  \n",
       "5506                       0          0             0  \n",
       "...                      ...        ...           ...  \n",
       "8859                       0          0             0  \n",
       "3084                       0          0             0  \n",
       "2570                       0          0             0  \n",
       "1681                       0          1             0  \n",
       "3990                       0          0             0  \n",
       "\n",
       "[3750 rows x 9 columns]"
      ],
      "text/html": "<div>\n<style scoped>\n    .dataframe tbody tr th:only-of-type {\n        vertical-align: middle;\n    }\n\n    .dataframe tbody tr th {\n        vertical-align: top;\n    }\n\n    .dataframe thead th {\n        text-align: right;\n    }\n</style>\n<table border=\"1\" class=\"dataframe\">\n  <thead>\n    <tr style=\"text-align: right;\">\n      <th></th>\n      <th>satisfaction_level</th>\n      <th>last_evaluation</th>\n      <th>number_project</th>\n      <th>average_montly_hours</th>\n      <th>time_spend_company</th>\n      <th>Work_accident</th>\n      <th>promotion_last_5years</th>\n      <th>left_fact</th>\n      <th>left_predict</th>\n    </tr>\n  </thead>\n  <tbody>\n    <tr>\n      <th>347</th>\n      <td>0.11</td>\n      <td>0.80</td>\n      <td>6</td>\n      <td>282</td>\n      <td>4</td>\n      <td>0</td>\n      <td>0</td>\n      <td>1</td>\n      <td>1</td>\n    </tr>\n    <tr>\n      <th>12334</th>\n      <td>0.10</td>\n      <td>0.81</td>\n      <td>6</td>\n      <td>290</td>\n      <td>4</td>\n      <td>0</td>\n      <td>0</td>\n      <td>1</td>\n      <td>1</td>\n    </tr>\n    <tr>\n      <th>8903</th>\n      <td>0.65</td>\n      <td>0.84</td>\n      <td>3</td>\n      <td>189</td>\n      <td>2</td>\n      <td>1</td>\n      <td>0</td>\n      <td>0</td>\n      <td>0</td>\n    </tr>\n    <tr>\n      <th>5407</th>\n      <td>0.49</td>\n      <td>0.74</td>\n      <td>3</td>\n      <td>229</td>\n      <td>3</td>\n      <td>1</td>\n      <td>0</td>\n      <td>0</td>\n      <td>0</td>\n    </tr>\n    <tr>\n      <th>5506</th>\n      <td>0.92</td>\n      <td>0.81</td>\n      <td>3</td>\n      <td>196</td>\n      <td>2</td>\n      <td>0</td>\n      <td>0</td>\n      <td>0</td>\n      <td>0</td>\n    </tr>\n    <tr>\n      <th>...</th>\n      <td>...</td>\n      <td>...</td>\n      <td>...</td>\n      <td>...</td>\n      <td>...</td>\n      <td>...</td>\n      <td>...</td>\n      <td>...</td>\n      <td>...</td>\n    </tr>\n    <tr>\n      <th>8859</th>\n      <td>0.69</td>\n      <td>0.54</td>\n      <td>5</td>\n      <td>152</td>\n      <td>3</td>\n      <td>1</td>\n      <td>0</td>\n      <td>0</td>\n      <td>0</td>\n    </tr>\n    <tr>\n      <th>3084</th>\n      <td>0.34</td>\n      <td>0.57</td>\n      <td>4</td>\n      <td>152</td>\n      <td>3</td>\n      <td>1</td>\n      <td>0</td>\n      <td>0</td>\n      <td>0</td>\n    </tr>\n    <tr>\n      <th>2570</th>\n      <td>0.80</td>\n      <td>0.96</td>\n      <td>3</td>\n      <td>257</td>\n      <td>5</td>\n      <td>0</td>\n      <td>0</td>\n      <td>0</td>\n      <td>0</td>\n    </tr>\n    <tr>\n      <th>1681</th>\n      <td>0.83</td>\n      <td>0.94</td>\n      <td>4</td>\n      <td>264</td>\n      <td>5</td>\n      <td>0</td>\n      <td>0</td>\n      <td>1</td>\n      <td>0</td>\n    </tr>\n    <tr>\n      <th>3990</th>\n      <td>0.89</td>\n      <td>0.93</td>\n      <td>4</td>\n      <td>249</td>\n      <td>3</td>\n      <td>0</td>\n      <td>0</td>\n      <td>0</td>\n      <td>0</td>\n    </tr>\n  </tbody>\n</table>\n<p>3750 rows × 9 columns</p>\n</div>"
     },
     "metadata": {},
     "execution_count": 145
    }
   ],
   "source": [
    "X = df.drop(['left','department','salary'], axis=1)\n",
    "Y = df.left\n",
    "\n",
    "X_train, X_test, Y_train, Y_test = train_test_split(X, Y, test_size=0.25) #random_state=80)\n",
    "lda = LinearDiscriminantAnalysis()\n",
    "lda.fit(X_train, Y_train)\n",
    "\n",
    "Y_pred = lda.predict(X_test)\n",
    "\n",
    "df2 = X_test\n",
    "df2['left_fact'] = Y_test\n",
    "df2['left_predict'] = Y_pred\n",
    "\n",
    "df2.head()\n",
    "\n"
   ]
  }
 ]
}